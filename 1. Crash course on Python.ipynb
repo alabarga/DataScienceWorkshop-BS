{
  "nbformat": 4,
  "nbformat_minor": 0,
  "metadata": {
    "colab": {
      "name": "1. Crash course on Python.ipynb",
      "version": "0.3.2",
      "provenance": []
    },
    "kernelspec": {
      "name": "python3",
      "display_name": "Python 3"
    }
  },
  "cells": [
    {
      "metadata": {
        "id": "Hv7f8mWL1KCy",
        "colab_type": "text"
      },
      "cell_type": "markdown",
      "source": [
        "# A crash course on Python for Data Analysis\n",
        "\n",
        "1.\tPython basic programming:\n",
        "    + Python modules or how to extend the instruction set\n",
        "    + Data Types and Operations.\n",
        "    + A program in Python\n",
        "    + A function in Python\n",
        "    + Slicing\n",
        "    + References\n",
        "    + Comprehensions\n",
        "    + Generators\n",
        "    + Objects\n",
        "    + Reading Data"
      ]
    },
    {
      "metadata": {
        "id": "nlSL3kaR1KC1",
        "colab_type": "text"
      },
      "cell_type": "markdown",
      "source": [
        "## Python\n",
        "\n",
        "The software program that you use to invoke operators is called an **interpreter**. You enter your commands as a ‘dialog’ between you and the interpreter. Commands can be entered as part of a script (a text file with a list of commands to perform) or directly at the *cell*. \n",
        "\n",
        "In order to ask to the interpreter what to do, you must **invoke** an operator:"
      ]
    },
    {
      "metadata": {
        "id": "Zig3JP2Ug7Hp",
        "colab_type": "code",
        "colab": {
          "base_uri": "https://localhost:8080/",
          "height": 34
        },
        "outputId": "5a11e262-3383-4879-dc66-3bad3bc873a9"
      },
      "cell_type": "code",
      "source": [
        "!python --version"
      ],
      "execution_count": 1,
      "outputs": [
        {
          "output_type": "stream",
          "text": [
            "Python 3.6.7\n"
          ],
          "name": "stdout"
        }
      ]
    },
    {
      "metadata": {
        "id": "2KSc9zFO1KC2",
        "colab_type": "code",
        "outputId": "8a985cbb-41cd-41d1-fdd4-37feb235c0b0",
        "colab": {
          "base_uri": "https://localhost:8080/",
          "height": 34
        }
      },
      "cell_type": "code",
      "source": [
        "3 + 4 + 9"
      ],
      "execution_count": 2,
      "outputs": [
        {
          "output_type": "execute_result",
          "data": {
            "text/plain": [
              "16"
            ]
          },
          "metadata": {
            "tags": []
          },
          "execution_count": 2
        }
      ]
    },
    {
      "metadata": {
        "id": "DGuaB_xL1KC6",
        "colab_type": "code",
        "outputId": "9c214bbd-e58d-4613-e8a4-c41c9762eac8",
        "colab": {
          "base_uri": "https://localhost:8080/",
          "height": 34
        }
      },
      "cell_type": "code",
      "source": [
        "list(range(10))"
      ],
      "execution_count": 5,
      "outputs": [
        {
          "output_type": "execute_result",
          "data": {
            "text/plain": [
              "[0, 1, 2, 3, 4, 5, 6, 7, 8, 9]"
            ]
          },
          "metadata": {
            "tags": []
          },
          "execution_count": 5
        }
      ]
    },
    {
      "metadata": {
        "id": "KsnnQcmy1KC9",
        "colab_type": "text"
      },
      "cell_type": "markdown",
      "source": [
        "It’s helpful to think of the computation carried out by an operator as involving four parts:\n",
        "\n",
        "+ The name of the operator\n",
        "+ The input arguments\n",
        "+ The output value\n",
        "+ Side effects\n",
        "\n",
        "A typical operation takes one or more input arguments and uses the information in these to produce an output value. Along the way, the computer might take some action: display a graph, store a file, make a sound, etc. These actions are called side effects."
      ]
    },
    {
      "metadata": {
        "id": "uSxHsf1D1KC-",
        "colab_type": "text"
      },
      "cell_type": "markdown",
      "source": [
        "### Modules\n",
        "\n",
        "Python is a general-purpose programming language, so when we want to use more specific commands (such as statistical operators or string processing operators) we usually need to import them before we can use them. \n",
        "\n",
        "For Scientific Python, one of the most important libraries that we need is **numpy** (Numerical Python), which can be loaded like this:"
      ]
    },
    {
      "metadata": {
        "id": "tW-sQyja1KC-",
        "colab_type": "code",
        "outputId": "d394dded-ce38-4a25-b6ba-b89ec4af90f9",
        "colab": {
          "base_uri": "https://localhost:8080/",
          "height": 34
        }
      },
      "cell_type": "code",
      "source": [
        "import numpy as np\n",
        "np.sqrt(25)"
      ],
      "execution_count": 6,
      "outputs": [
        {
          "output_type": "execute_result",
          "data": {
            "text/plain": [
              "5.0"
            ]
          },
          "metadata": {
            "tags": []
          },
          "execution_count": 6
        }
      ]
    },
    {
      "metadata": {
        "id": "AJGeQnzc1KDB",
        "colab_type": "code",
        "outputId": "6c807934-1a27-42f5-9e22-a14da8f66e23",
        "colab": {
          "base_uri": "https://localhost:8080/",
          "height": 34
        }
      },
      "cell_type": "code",
      "source": [
        "np.arange(10)"
      ],
      "execution_count": 7,
      "outputs": [
        {
          "output_type": "execute_result",
          "data": {
            "text/plain": [
              "array([0, 1, 2, 3, 4, 5, 6, 7, 8, 9])"
            ]
          },
          "metadata": {
            "tags": []
          },
          "execution_count": 7
        }
      ]
    },
    {
      "metadata": {
        "id": "D_J_jneE1KDE",
        "colab_type": "text"
      },
      "cell_type": "markdown",
      "source": [
        "Access to the functions, variables and classes of a module depends on the way the module was imported:"
      ]
    },
    {
      "metadata": {
        "id": "tCS4r2Gq1KDE",
        "colab_type": "code",
        "outputId": "2b57be98-b473-49e0-9b50-77f8593e734e",
        "colab": {
          "base_uri": "https://localhost:8080/",
          "height": 34
        }
      },
      "cell_type": "code",
      "source": [
        "import math\n",
        "math.cos(math.pi)"
      ],
      "execution_count": 8,
      "outputs": [
        {
          "output_type": "execute_result",
          "data": {
            "text/plain": [
              "-1.0"
            ]
          },
          "metadata": {
            "tags": []
          },
          "execution_count": 8
        }
      ]
    },
    {
      "metadata": {
        "id": "Rt1rhSFz1KDH",
        "colab_type": "code",
        "outputId": "52e1c874-68de-4ca5-ae3d-dd14fb602479",
        "colab": {
          "base_uri": "https://localhost:8080/",
          "height": 34
        }
      },
      "cell_type": "code",
      "source": [
        "import math as m  # import using an alias\n",
        "m.cos(m.pi)"
      ],
      "execution_count": 9,
      "outputs": [
        {
          "output_type": "execute_result",
          "data": {
            "text/plain": [
              "-1.0"
            ]
          },
          "metadata": {
            "tags": []
          },
          "execution_count": 9
        }
      ]
    },
    {
      "metadata": {
        "id": "Ipi4oPpx1KDK",
        "colab_type": "code",
        "colab": {
          "base_uri": "https://localhost:8080/",
          "height": 34
        },
        "outputId": "17a20e5c-4671-4768-e7f8-64da28b50265"
      },
      "cell_type": "code",
      "source": [
        "from math import cos,pi # import only some functions\n",
        "cos(pi)"
      ],
      "execution_count": 10,
      "outputs": [
        {
          "output_type": "execute_result",
          "data": {
            "text/plain": [
              "-1.0"
            ]
          },
          "metadata": {
            "tags": []
          },
          "execution_count": 10
        }
      ]
    },
    {
      "metadata": {
        "id": "EUAWcGGk1KDM",
        "colab_type": "code",
        "colab": {
          "base_uri": "https://localhost:8080/",
          "height": 34
        },
        "outputId": "77d4b6d7-f199-47a7-f6b1-c8f7047e155d"
      },
      "cell_type": "code",
      "source": [
        "from math import *   # global import\n",
        "cos(pi)"
      ],
      "execution_count": 11,
      "outputs": [
        {
          "output_type": "execute_result",
          "data": {
            "text/plain": [
              "-1.0"
            ]
          },
          "metadata": {
            "tags": []
          },
          "execution_count": 11
        }
      ]
    },
    {
      "metadata": {
        "id": "DrIoIeDb1KDO",
        "colab_type": "text"
      },
      "cell_type": "markdown",
      "source": [
        "### Objects\n",
        "\n",
        "Often the value returned by an operation will be used later on. Values can be stored for later use with the **assignment operator**:"
      ]
    },
    {
      "metadata": {
        "id": "Glf8UiHO1KDP",
        "colab_type": "code",
        "colab": {}
      },
      "cell_type": "code",
      "source": [
        "a = 101"
      ],
      "execution_count": 0,
      "outputs": []
    },
    {
      "metadata": {
        "id": "Usy7iKxd1KDR",
        "colab_type": "text"
      },
      "cell_type": "markdown",
      "source": [
        "The command has stored the value 101 under the name <code>a</code>. Such stored values are called **objects**. \n",
        "\n",
        "Making an assignment to an object defines the object. Once an object has been defined, it can be referred to and used in later computations. \n",
        "\n",
        "To refer to the value stored in the object, just use the object’s name itself. For instance:"
      ]
    },
    {
      "metadata": {
        "id": "Eci0YGih1KDS",
        "colab_type": "code",
        "outputId": "1d194286-03a1-43b1-fde9-9446a88e73eb",
        "colab": {
          "base_uri": "https://localhost:8080/",
          "height": 34
        }
      },
      "cell_type": "code",
      "source": [
        "b = np.sqrt(a)\n",
        "b"
      ],
      "execution_count": 13,
      "outputs": [
        {
          "output_type": "execute_result",
          "data": {
            "text/plain": [
              "10.04987562112089"
            ]
          },
          "metadata": {
            "tags": []
          },
          "execution_count": 13
        }
      ]
    },
    {
      "metadata": {
        "id": "pK6GeRiF1KDV",
        "colab_type": "text"
      },
      "cell_type": "markdown",
      "source": [
        "There are some general rules for object names:\n",
        "\n",
        "+ Use only letters and numbers and ‘underscores’ (_)\n",
        "+ Do NOT use spaces anywhere in the name\n",
        "+ A number cannot be the first character in the name\n",
        "+ Capital letters are treated as distinct from lower-case letters (i.e., Python is case-sensitive)"
      ]
    },
    {
      "metadata": {
        "id": "7IbwjJLs1KDV",
        "colab_type": "code",
        "colab": {
          "base_uri": "https://localhost:8080/",
          "height": 131
        },
        "outputId": "011763f1-ebc5-4f52-cca6-9f236c20a5bb"
      },
      "cell_type": "code",
      "source": [
        "3a = 10"
      ],
      "execution_count": 14,
      "outputs": [
        {
          "output_type": "error",
          "ename": "SyntaxError",
          "evalue": "ignored",
          "traceback": [
            "\u001b[0;36m  File \u001b[0;32m\"<ipython-input-14-f986eee6e224>\"\u001b[0;36m, line \u001b[0;32m1\u001b[0m\n\u001b[0;31m    3a = 10\u001b[0m\n\u001b[0m     ^\u001b[0m\n\u001b[0;31mSyntaxError\u001b[0m\u001b[0;31m:\u001b[0m invalid syntax\n"
          ]
        }
      ]
    },
    {
      "metadata": {
        "id": "_r2NH8KS1KDX",
        "colab_type": "text"
      },
      "cell_type": "markdown",
      "source": [
        "### Dynamic Typing\n",
        "\n",
        "When you assign a new value to an existing object (*dynamic typing*), the former values of that object is erased from the computer memory. The former value of b was 10.0498756211, but after a new assignment:"
      ]
    },
    {
      "metadata": {
        "id": "KOl0eXDn1KDY",
        "colab_type": "code",
        "outputId": "b2d52b85-75b8-4ddb-d7f9-a32bfd0a7cdf",
        "colab": {
          "base_uri": "https://localhost:8080/",
          "height": 34
        }
      },
      "cell_type": "code",
      "source": [
        "b = 'a'\n",
        "print(b)"
      ],
      "execution_count": 16,
      "outputs": [
        {
          "output_type": "stream",
          "text": [
            "a\n"
          ],
          "name": "stdout"
        }
      ]
    },
    {
      "metadata": {
        "id": "f2e7dd241KDd",
        "colab_type": "text"
      },
      "cell_type": "markdown",
      "source": [
        "The value of an object is changed only via the assignment operator. Using an object in a computation does not change the value. "
      ]
    },
    {
      "metadata": {
        "id": "0uYBIkx81KDe",
        "colab_type": "text"
      },
      "cell_type": "markdown",
      "source": [
        "The brilliant thing about organizing operators in terms of input arguments and output values is that the output of one operator can be used as an input to another. This lets complicated computations be built out of simpler ones.\n",
        "\n",
        "One way to connect the computations is by using objects to store the intermediate outputs:"
      ]
    },
    {
      "metadata": {
        "id": "21mrj63H1KDf",
        "colab_type": "code",
        "outputId": "9afef098-92b3-4523-c8c9-54fa1dc3d8ff",
        "colab": {
          "base_uri": "https://localhost:8080/",
          "height": 34
        }
      },
      "cell_type": "code",
      "source": [
        "a = np.arange(5)\n",
        "np.sqrt(a)"
      ],
      "execution_count": 17,
      "outputs": [
        {
          "output_type": "execute_result",
          "data": {
            "text/plain": [
              "array([0.        , 1.        , 1.41421356, 1.73205081, 2.        ])"
            ]
          },
          "metadata": {
            "tags": []
          },
          "execution_count": 17
        }
      ]
    },
    {
      "metadata": {
        "id": "aICBX53a1KDk",
        "colab_type": "text"
      },
      "cell_type": "markdown",
      "source": [
        "You can also pass the output of an operator directly as an argument to another operator:"
      ]
    },
    {
      "metadata": {
        "id": "MtwJeE8s1KDk",
        "colab_type": "code",
        "outputId": "dd48b6f6-d07b-401d-a55c-7d2ac704b4cb",
        "colab": {
          "base_uri": "https://localhost:8080/",
          "height": 34
        }
      },
      "cell_type": "code",
      "source": [
        "np.sqrt(np.arange(5))"
      ],
      "execution_count": 18,
      "outputs": [
        {
          "output_type": "execute_result",
          "data": {
            "text/plain": [
              "array([0.        , 1.        , 1.41421356, 1.73205081, 2.        ])"
            ]
          },
          "metadata": {
            "tags": []
          },
          "execution_count": 18
        }
      ]
    },
    {
      "metadata": {
        "id": "m7ogo_fj1KDn",
        "colab_type": "text"
      },
      "cell_type": "markdown",
      "source": [
        "### Data Types\n",
        "\n",
        "Most of the examples used so far have dealt with numbers. But computers work with other kinds of information as well: text, photographs, sounds, sets of data, and so on. The word *type* is used to refer to the kind of information. \n",
        "\n",
        "It’s important to know about the types of data because operators expect their input arguments to be of specific types. When you use the wrong type of input, the computer might not be able to process your command."
      ]
    },
    {
      "metadata": {
        "id": "GFZJwyyg1KDo",
        "colab_type": "text"
      },
      "cell_type": "markdown",
      "source": [
        "For our purposes, it’s important to distinguish among several basic types:\n",
        "\n",
        "+ Numeric (positive and negative) data: \n",
        "    + decimal and fractional numbers (**floats**), <code>a = 3.5</code>\n",
        "    + whole numbers (**integers**), <code> b = -12560</code>, and \n",
        "    + arbitrary length whole numbers (**longs**):  <code>c=1809109863596239561236235625629561L</code>\n",
        "+ **Strings** of textual data - you indicate string data to the computer by enclosing the text in quotation marks (e.g., <code>name = \"python\"</code>).\n",
        "+ **Boolean** data: <code>a = True</code> or <code>a = False</code>.\n",
        "+ **Complex** numbers: <code>a = 2+3j</code>\n",
        "+ Sequence types: **tuples, lists, sets, dictionaries** and **files**."
      ]
    },
    {
      "metadata": {
        "id": "V8OmfTZB1KDp",
        "colab_type": "code",
        "colab": {}
      },
      "cell_type": "code",
      "source": [
        "a = 10"
      ],
      "execution_count": 0,
      "outputs": []
    },
    {
      "metadata": {
        "id": "zQ5A45Y81KDr",
        "colab_type": "code",
        "colab": {
          "base_uri": "https://localhost:8080/",
          "height": 34
        },
        "outputId": "c06ef9d6-1475-4f3a-8e54-b89930288d67"
      },
      "cell_type": "code",
      "source": [
        "a = 'a'\n",
        "print(a)"
      ],
      "execution_count": 21,
      "outputs": [
        {
          "output_type": "stream",
          "text": [
            "a\n"
          ],
          "name": "stdout"
        }
      ]
    },
    {
      "metadata": {
        "id": "09XKkcCY1KDt",
        "colab_type": "text"
      },
      "cell_type": "markdown",
      "source": [
        "### Operators\n",
        "\n",
        "+ Addition (also string, tuple and list concatenation) <code>a + b</code>\n",
        "+ Subtraction (also set difference): <code>a - b</code>\n",
        "+ Multiplication (also string, tuple and list replication): <code>a * b</code>\n",
        "+ Division: <code>a / b</code>\n",
        "+ Truncated integer division (rounded towards minus infinity): <code>a // b</code>\n",
        "+ Modulus or remainder: <code>a % b</code>\n",
        "+ Exponentiation: <code>a ** b</code>\n",
        "+ Assignment: <code>=</code>, <code>-=</code>, <code>+=</code>,<code>/=</code>,<code>*=</code>, <code>%=</code>, <code>//=</code>, <code>**=</code>\n",
        "+ Boolean comparisons: <code>==</code>, <code>!=</code>, <code><</code>,<code>></code>,<code><=</code>, <code>>=</code>\n",
        "+ Boolean operators: <code>and</code>, <code>or</code>, <code>not</code>\n",
        "+ Membership test operators: <code>in</code>, <code>not in</code>\n",
        "+ Object identity operators: <code>is</code>, <code>is not</code>\n",
        "+ Bitwise operators (or, xor, and, complement): <code>|</code>, <code>^</code>, <code>&</code>, <code>~</code>\n",
        "+ Left and right bit shift: <code><<</code>, <code>>></code>"
      ]
    },
    {
      "metadata": {
        "id": "5fVANe7d1KDt",
        "colab_type": "text"
      },
      "cell_type": "markdown",
      "source": [
        "### Python as a calculator\n",
        "\n",
        "The Python language has a concise notation for arithmetic that looks very much like the traditional one."
      ]
    },
    {
      "metadata": {
        "id": "IV1Lrf211KDu",
        "colab_type": "code",
        "outputId": "64224eeb-e26d-4d46-fece-9594207d8ba8",
        "colab": {
          "base_uri": "https://localhost:8080/",
          "height": 34
        }
      },
      "cell_type": "code",
      "source": [
        "a = 3+2\n",
        "b= 3.5 * -8\n",
        "c = 10/6\n",
        "print(a, b, c, 10./6.)"
      ],
      "execution_count": 23,
      "outputs": [
        {
          "output_type": "stream",
          "text": [
            "5 -28.0 1.6666666666666667 1.6666666666666667\n"
          ],
          "name": "stdout"
        }
      ]
    },
    {
      "metadata": {
        "id": "2DIDpfy-1KDx",
        "colab_type": "text"
      },
      "cell_type": "markdown",
      "source": [
        "Some math functions are not available in the basic Python module, and they need to be imported from a specific module:"
      ]
    },
    {
      "metadata": {
        "id": "uD7-M_Vs1KDy",
        "colab_type": "code",
        "outputId": "55fe0518-a380-4c71-fd8b-0e8e65bd0993",
        "colab": {
          "base_uri": "https://localhost:8080/",
          "height": 34
        }
      },
      "cell_type": "code",
      "source": [
        "import math   # this instruction is not executed if the module has already been imported\n",
        "print(math.pi + math.sin(100) + math.ceil(2.3))"
      ],
      "execution_count": 25,
      "outputs": [
        {
          "output_type": "stream",
          "text": [
            "5.635227012480034\n"
          ],
          "name": "stdout"
        }
      ]
    },
    {
      "metadata": {
        "id": "g6mLmUlD1KD1",
        "colab_type": "text"
      },
      "cell_type": "markdown",
      "source": [
        "### A program in Python\n",
        "\n",
        "General Rules:\n",
        "\n",
        "+ All text from a <code>#</code> simbol to the end of a line are considered as comments.\n",
        "+ Code must be **indented** and sometimes delineated by colons. The Python standard for indentation is four spaces. Never use tabs: it can produce hard to find errors. Set you editor to convert tabs to spaces.\n",
        "+ Typically, a statement must be on a line. You can use a backslash <code>\\</code> at the end of a line to continue a statement on to the next line.\n"
      ]
    },
    {
      "metadata": {
        "id": "4XHedvqB1KD2",
        "colab_type": "code",
        "outputId": "821fb316-ca74-4541-dafd-b6e8d94c74c1",
        "colab": {
          "base_uri": "https://localhost:8080/",
          "height": 54
        }
      },
      "cell_type": "code",
      "source": [
        "# This program computes the factorial of 100.\n",
        "\n",
        "fact = 1\n",
        "n= 100\n",
        "for factor in range(n,0,-1):\n",
        "    fact = fact * \\\n",
        "    factor \n",
        "print(fact)    "
      ],
      "execution_count": 28,
      "outputs": [
        {
          "output_type": "stream",
          "text": [
            "93326215443944152681699238856266700490715968264381621468592963895217599993229915608941463976156518286253697920827223758251185210916864000000000000000000000000\n"
          ],
          "name": "stdout"
        }
      ]
    },
    {
      "metadata": {
        "id": "KzOfPanC1KD5",
        "colab_type": "code",
        "outputId": "d8c640fe-541d-4d2a-b41c-a73aafcb5373",
        "colab": {
          "base_uri": "https://localhost:8080/",
          "height": 34
        }
      },
      "cell_type": "code",
      "source": [
        "list(range(10,0,-1))"
      ],
      "execution_count": 29,
      "outputs": [
        {
          "output_type": "execute_result",
          "data": {
            "text/plain": [
              "[10, 9, 8, 7, 6, 5, 4, 3, 2, 1]"
            ]
          },
          "metadata": {
            "tags": []
          },
          "execution_count": 29
        }
      ]
    },
    {
      "metadata": {
        "id": "ZlVwOuhn1KD7",
        "colab_type": "text"
      },
      "cell_type": "markdown",
      "source": [
        "<div class=\"alert alert-error\"> When we write a colon at the end of an iteration, all lines indented at the next level are considered *part* of the iteration. \n",
        "\n",
        "When we write a line at the same indentation as the iteration, we are closing the iteration.</div>"
      ]
    },
    {
      "metadata": {
        "id": "cpybnAwk1KD7",
        "colab_type": "text"
      },
      "cell_type": "markdown",
      "source": [
        "### A function in Python\n",
        "\n"
      ]
    },
    {
      "metadata": {
        "id": "DmEbcy_w1KD9",
        "colab_type": "text"
      },
      "cell_type": "markdown",
      "source": [
        "#### Factorial\n",
        "\n",
        "The factorial of a non-negative integer $n$, denoted by $n!$, is the product of all positive integers less than or equal to $n$.  "
      ]
    },
    {
      "metadata": {
        "id": "nmLFQfop1KD-",
        "colab_type": "code",
        "colab": {}
      },
      "cell_type": "code",
      "source": [
        "def factorial(n):\n",
        "    fact = 1\n",
        "    for factor in range(n,0,-1):\n",
        "        fact = fact * factor\n",
        "    return fact"
      ],
      "execution_count": 0,
      "outputs": []
    },
    {
      "metadata": {
        "id": "oKjy9ftR1KEB",
        "colab_type": "code",
        "outputId": "47a12a5f-9147-49aa-c47b-eb07b6aca1cb",
        "colab": {
          "base_uri": "https://localhost:8080/",
          "height": 54
        }
      },
      "cell_type": "code",
      "source": [
        "factorial(100)"
      ],
      "execution_count": 32,
      "outputs": [
        {
          "output_type": "execute_result",
          "data": {
            "text/plain": [
              "93326215443944152681699238856266700490715968264381621468592963895217599993229915608941463976156518286253697920827223758251185210916864000000000000000000000000"
            ]
          },
          "metadata": {
            "tags": []
          },
          "execution_count": 32
        }
      ]
    },
    {
      "metadata": {
        "id": "rXkZVxj91KEF",
        "colab_type": "text"
      },
      "cell_type": "markdown",
      "source": [
        "#### Fibonacci\n",
        "\n",
        "The Fibonacci Sequence is the series of numbers: 0, 1, 1, 2, 3, 5, 8, 13, 21, 34, ...\n",
        "\n",
        "The general rule to compute the sequence is very simple: The next number is found by adding up the two numbers before it."
      ]
    },
    {
      "metadata": {
        "id": "FzDqm3wM1KEF",
        "colab_type": "code",
        "outputId": "a9431ee4-a6c6-487d-b0a5-d7db2aaf4bb2",
        "colab": {
          "base_uri": "https://localhost:8080/",
          "height": 34
        }
      },
      "cell_type": "code",
      "source": [
        "def fib1(n):\n",
        "    if n==1:\n",
        "        return 1\n",
        "    if n==0:\n",
        "        return 0\n",
        "    return fib1(n-1) + fib1(n-2)\n",
        "\n",
        "fib1(20)\n",
        "\n",
        "# this function cannot compute fib(100)"
      ],
      "execution_count": 34,
      "outputs": [
        {
          "output_type": "execute_result",
          "data": {
            "text/plain": [
              "6765"
            ]
          },
          "metadata": {
            "tags": []
          },
          "execution_count": 34
        }
      ]
    },
    {
      "metadata": {
        "id": "EBslTXGp1KEI",
        "colab_type": "code",
        "outputId": "ecf531e2-d037-4ce3-8985-b299a21aba26",
        "colab": {
          "base_uri": "https://localhost:8080/",
          "height": 384
        }
      },
      "cell_type": "code",
      "source": [
        "import this"
      ],
      "execution_count": 35,
      "outputs": [
        {
          "output_type": "stream",
          "text": [
            "The Zen of Python, by Tim Peters\n",
            "\n",
            "Beautiful is better than ugly.\n",
            "Explicit is better than implicit.\n",
            "Simple is better than complex.\n",
            "Complex is better than complicated.\n",
            "Flat is better than nested.\n",
            "Sparse is better than dense.\n",
            "Readability counts.\n",
            "Special cases aren't special enough to break the rules.\n",
            "Although practicality beats purity.\n",
            "Errors should never pass silently.\n",
            "Unless explicitly silenced.\n",
            "In the face of ambiguity, refuse the temptation to guess.\n",
            "There should be one-- and preferably only one --obvious way to do it.\n",
            "Although that way may not be obvious at first unless you're Dutch.\n",
            "Now is better than never.\n",
            "Although never is often better than *right* now.\n",
            "If the implementation is hard to explain, it's a bad idea.\n",
            "If the implementation is easy to explain, it may be a good idea.\n",
            "Namespaces are one honking great idea -- let's do more of those!\n"
          ],
          "name": "stdout"
        }
      ]
    },
    {
      "metadata": {
        "id": "Au0m1X7P1KEK",
        "colab_type": "code",
        "outputId": "f4a0e5d0-6637-49ba-8b92-1ee73494742a",
        "colab": {
          "base_uri": "https://localhost:8080/",
          "height": 54
        }
      },
      "cell_type": "code",
      "source": [
        "def fib2(n):\n",
        "    a, b = 0, 1\n",
        "    for i in range(1,n+1):\n",
        "        a, b = b, a + b\n",
        "    return a\n",
        "\n",
        "n = 1000\n",
        "\n",
        "if n<15:\n",
        "    print(fib1(n))\n",
        "else: \n",
        "    print(fib2(n))"
      ],
      "execution_count": 37,
      "outputs": [
        {
          "output_type": "stream",
          "text": [
            "43466557686937456435688527675040625802564660517371780402481729089536555417949051890403879840079255169295922593080322634775209689623239873322471161642996440906533187938298969649928516003704476137795166849228875\n"
          ],
          "name": "stdout"
        }
      ]
    },
    {
      "metadata": {
        "id": "avWrWDGa1KEM",
        "colab_type": "text"
      },
      "cell_type": "markdown",
      "source": [
        "#### Greatest Common Divisor\n",
        "\n",
        "The greatest common divisor of two positive integers $a$ and $b$ is the largest divisor common to $a$ and $b$.  \n",
        "\n",
        "The Euclidean algorithm, or Euclid's algorithm, is an interative method for computing the greatest common divisor of two integers. \n",
        "\n",
        "+ If $a<b$, exchange $a$ and $b$.\n",
        "+ Divide $a$ by $b$ and get the remainder, $r$. If $r=0$, report $b$ as the GCD of $a$ and $b$.\n",
        "+ Replace $a$ by $b$ and replace $b$ by $r$. If $r \\neq 0$ iterate.\n",
        "\n"
      ]
    },
    {
      "metadata": {
        "id": "f6ScLOFN1KEN",
        "colab_type": "code",
        "colab": {
          "base_uri": "https://localhost:8080/",
          "height": 34
        },
        "outputId": "6d87930f-9314-4bcf-b145-99224d1ffd3d"
      },
      "cell_type": "code",
      "source": [
        "def gcd(a,b): # Euclides algorithm v1.0: pseudocode translation\n",
        "    r = 1\n",
        "    while r != 0:\n",
        "        if a<b:\n",
        "            c=a\n",
        "            a=b\n",
        "            b=c\n",
        "        r = a%b \n",
        "        if r == 0:\n",
        "            return b\n",
        "        else:\n",
        "            a = b\n",
        "            b = r\n",
        "\n",
        "gcd(100,16)"
      ],
      "execution_count": 38,
      "outputs": [
        {
          "output_type": "execute_result",
          "data": {
            "text/plain": [
              "4"
            ]
          },
          "metadata": {
            "tags": []
          },
          "execution_count": 38
        }
      ]
    },
    {
      "metadata": {
        "id": "Vsbz1HZu1KEP",
        "colab_type": "code",
        "outputId": "5a7fd195-c32a-4b6f-fa1f-241876ecd3f0",
        "colab": {
          "base_uri": "https://localhost:8080/",
          "height": 34
        }
      },
      "cell_type": "code",
      "source": [
        "def gcd(a,b):   # Euclides algorithm v2.0: idiomatic Python\n",
        "    while a:\n",
        "        a, b = b%a, a\n",
        "    return b\n",
        "\n",
        "gcd(100,16)"
      ],
      "execution_count": 39,
      "outputs": [
        {
          "output_type": "execute_result",
          "data": {
            "text/plain": [
              "4"
            ]
          },
          "metadata": {
            "tags": []
          },
          "execution_count": 39
        }
      ]
    },
    {
      "metadata": {
        "id": "ccBvDszj1KET",
        "colab_type": "code",
        "outputId": "682c0bca-b796-4805-cd3f-992c4403933d",
        "colab": {
          "base_uri": "https://localhost:8080/",
          "height": 34
        }
      },
      "cell_type": "code",
      "source": [
        "a = 0\n",
        "a == False"
      ],
      "execution_count": 40,
      "outputs": [
        {
          "output_type": "execute_result",
          "data": {
            "text/plain": [
              "True"
            ]
          },
          "metadata": {
            "tags": []
          },
          "execution_count": 40
        }
      ]
    },
    {
      "metadata": {
        "id": "BZ9aMj8L1KEW",
        "colab_type": "text"
      },
      "cell_type": "markdown",
      "source": [
        "### String processing with Python\n",
        "\n",
        "Strings are list of characters:"
      ]
    },
    {
      "metadata": {
        "id": "kTbM_rqV1KEX",
        "colab_type": "code",
        "outputId": "b61bd07a-7d8a-4ee1-b743-c08f934a308a",
        "colab": {
          "base_uri": "https://localhost:8080/",
          "height": 34
        }
      },
      "cell_type": "code",
      "source": [
        "a = 'python'\n",
        "type(a)"
      ],
      "execution_count": 41,
      "outputs": [
        {
          "output_type": "execute_result",
          "data": {
            "text/plain": [
              "str"
            ]
          },
          "metadata": {
            "tags": []
          },
          "execution_count": 41
        }
      ]
    },
    {
      "metadata": {
        "id": "hvDnFv1X1KEd",
        "colab_type": "code",
        "outputId": "d0fc97ef-6e56-465d-8042-a42b633e4b44",
        "colab": {
          "base_uri": "https://localhost:8080/",
          "height": 34
        }
      },
      "cell_type": "code",
      "source": [
        "print(\"Hello\")"
      ],
      "execution_count": 43,
      "outputs": [
        {
          "output_type": "stream",
          "text": [
            "Hello\n"
          ],
          "name": "stdout"
        }
      ]
    },
    {
      "metadata": {
        "id": "XYWZ4Qna1KEg",
        "colab_type": "code",
        "outputId": "55cc3b7d-5d67-44da-90f5-f4c86e065747",
        "colab": {
          "base_uri": "https://localhost:8080/",
          "height": 52
        }
      },
      "cell_type": "code",
      "source": [
        "print(\"This is 'an example' of the use of quotes and double quotes\")\n",
        "print('This is \"another example\" of the use of quotes and double quotes')"
      ],
      "execution_count": 44,
      "outputs": [
        {
          "output_type": "stream",
          "text": [
            "This is 'an example' of the use of quotes and double quotes\n",
            "This is \"another example\" of the use of quotes and double quotes\n"
          ],
          "name": "stdout"
        }
      ]
    },
    {
      "metadata": {
        "id": "0_KDWlYR1KEl",
        "colab_type": "text"
      },
      "cell_type": "markdown",
      "source": [
        "We can use the operator ``+`` to concatenate strings:"
      ]
    },
    {
      "metadata": {
        "id": "O3rE-ELd1KEm",
        "colab_type": "code",
        "outputId": "6914e6d4-6f0d-417e-a3a1-15f57a782e43",
        "colab": {
          "base_uri": "https://localhost:8080/",
          "height": 34
        }
      },
      "cell_type": "code",
      "source": [
        "a = 'He'\n",
        "b = 'llo'\n",
        "c = a+b+'!'\n",
        "print(c)"
      ],
      "execution_count": 46,
      "outputs": [
        {
          "output_type": "stream",
          "text": [
            "Hello!\n"
          ],
          "name": "stdout"
        }
      ]
    },
    {
      "metadata": {
        "id": "1Or45G8l1KEo",
        "colab_type": "text"
      },
      "cell_type": "markdown",
      "source": [
        "Substrings within a string can be accessed using **slicing**. Slicing uses ``[]`` to contain the indices of the characters in a string, where the first index is $0$, and the last is $n - 1$ (assuming the string has $n$ characters). "
      ]
    },
    {
      "metadata": {
        "id": "LPXu1WZ21KEp",
        "colab_type": "code",
        "outputId": "d5c53a4b-8c0b-4c7e-9870-a674c3380d72",
        "colab": {
          "base_uri": "https://localhost:8080/",
          "height": 34
        }
      },
      "cell_type": "code",
      "source": [
        "a = 'Python'\n",
        "print(a[:], a[1], a[2:], a[:3], a[2:4], a[::2], a[1::2])"
      ],
      "execution_count": 48,
      "outputs": [
        {
          "output_type": "stream",
          "text": [
            "Python y thon Pyt th Pto yhn\n"
          ],
          "name": "stdout"
        }
      ]
    },
    {
      "metadata": {
        "id": "ayoMpqYs1KEs",
        "colab_type": "text"
      },
      "cell_type": "markdown",
      "source": [
        "The most advanced string functiona are stored in an external module called ``string``"
      ]
    },
    {
      "metadata": {
        "id": "U5mC3zCE1KEt",
        "colab_type": "code",
        "outputId": "f23bf30d-09df-4aa2-f547-98f6a012296c",
        "colab": {
          "base_uri": "https://localhost:8080/",
          "height": 2329
        }
      },
      "cell_type": "code",
      "source": [
        "import string as st\n",
        "help(st)"
      ],
      "execution_count": 49,
      "outputs": [
        {
          "output_type": "stream",
          "text": [
            "Help on module string:\n",
            "\n",
            "NAME\n",
            "    string - A collection of string constants.\n",
            "\n",
            "MODULE REFERENCE\n",
            "    https://docs.python.org/3.6/library/string\n",
            "    \n",
            "    The following documentation is automatically generated from the Python\n",
            "    source files.  It may be incomplete, incorrect or include features that\n",
            "    are considered implementation detail and may vary between Python\n",
            "    implementations.  When in doubt, consult the module reference at the\n",
            "    location listed above.\n",
            "\n",
            "DESCRIPTION\n",
            "    Public module variables:\n",
            "    \n",
            "    whitespace -- a string containing all ASCII whitespace\n",
            "    ascii_lowercase -- a string containing all ASCII lowercase letters\n",
            "    ascii_uppercase -- a string containing all ASCII uppercase letters\n",
            "    ascii_letters -- a string containing all ASCII letters\n",
            "    digits -- a string containing all ASCII decimal digits\n",
            "    hexdigits -- a string containing all ASCII hexadecimal digits\n",
            "    octdigits -- a string containing all ASCII octal digits\n",
            "    punctuation -- a string containing all ASCII punctuation characters\n",
            "    printable -- a string containing all ASCII characters considered printable\n",
            "\n",
            "CLASSES\n",
            "    builtins.object\n",
            "        Formatter\n",
            "        Template\n",
            "    \n",
            "    class Formatter(builtins.object)\n",
            "     |  Methods defined here:\n",
            "     |  \n",
            "     |  check_unused_args(self, used_args, args, kwargs)\n",
            "     |  \n",
            "     |  convert_field(self, value, conversion)\n",
            "     |  \n",
            "     |  format(*args, **kwargs)\n",
            "     |  \n",
            "     |  format_field(self, value, format_spec)\n",
            "     |  \n",
            "     |  get_field(self, field_name, args, kwargs)\n",
            "     |      # given a field_name, find the object it references.\n",
            "     |      #  field_name:   the field being looked up, e.g. \"0.name\"\n",
            "     |      #                 or \"lookup[3]\"\n",
            "     |      #  used_args:    a set of which args have been used\n",
            "     |      #  args, kwargs: as passed in to vformat\n",
            "     |  \n",
            "     |  get_value(self, key, args, kwargs)\n",
            "     |  \n",
            "     |  parse(self, format_string)\n",
            "     |      # returns an iterable that contains tuples of the form:\n",
            "     |      # (literal_text, field_name, format_spec, conversion)\n",
            "     |      # literal_text can be zero length\n",
            "     |      # field_name can be None, in which case there's no\n",
            "     |      #  object to format and output\n",
            "     |      # if field_name is not None, it is looked up, formatted\n",
            "     |      #  with format_spec and conversion and then used\n",
            "     |  \n",
            "     |  vformat(self, format_string, args, kwargs)\n",
            "     |  \n",
            "     |  ----------------------------------------------------------------------\n",
            "     |  Data descriptors defined here:\n",
            "     |  \n",
            "     |  __dict__\n",
            "     |      dictionary for instance variables (if defined)\n",
            "     |  \n",
            "     |  __weakref__\n",
            "     |      list of weak references to the object (if defined)\n",
            "    \n",
            "    class Template(builtins.object)\n",
            "     |  A string class for supporting $-substitutions.\n",
            "     |  \n",
            "     |  Methods defined here:\n",
            "     |  \n",
            "     |  __init__(self, template)\n",
            "     |      Initialize self.  See help(type(self)) for accurate signature.\n",
            "     |  \n",
            "     |  safe_substitute(*args, **kws)\n",
            "     |  \n",
            "     |  substitute(*args, **kws)\n",
            "     |  \n",
            "     |  ----------------------------------------------------------------------\n",
            "     |  Data descriptors defined here:\n",
            "     |  \n",
            "     |  __dict__\n",
            "     |      dictionary for instance variables (if defined)\n",
            "     |  \n",
            "     |  __weakref__\n",
            "     |      list of weak references to the object (if defined)\n",
            "     |  \n",
            "     |  ----------------------------------------------------------------------\n",
            "     |  Data and other attributes defined here:\n",
            "     |  \n",
            "     |  delimiter = '$'\n",
            "     |  \n",
            "     |  flags = <RegexFlag.IGNORECASE: 2>\n",
            "     |  \n",
            "     |  idpattern = '(?-i:[_a-zA-Z][_a-zA-Z0-9]*)'\n",
            "     |  \n",
            "     |  pattern = re.compile('\\n    \\\\$(?:\\n      (?P<escaped>\\\\$)...(?P<brace...\n",
            "\n",
            "FUNCTIONS\n",
            "    capwords(s, sep=None)\n",
            "        capwords(s [,sep]) -> string\n",
            "        \n",
            "        Split the argument into words using split, capitalize each\n",
            "        word using capitalize, and join the capitalized words using\n",
            "        join.  If the optional second argument sep is absent or None,\n",
            "        runs of whitespace characters are replaced by a single space\n",
            "        and leading and trailing whitespace are removed, otherwise\n",
            "        sep is used to split and join the words.\n",
            "\n",
            "DATA\n",
            "    __all__ = ['ascii_letters', 'ascii_lowercase', 'ascii_uppercase', 'cap...\n",
            "    ascii_letters = 'abcdefghijklmnopqrstuvwxyzABCDEFGHIJKLMNOPQRSTUVWXYZ'\n",
            "    ascii_lowercase = 'abcdefghijklmnopqrstuvwxyz'\n",
            "    ascii_uppercase = 'ABCDEFGHIJKLMNOPQRSTUVWXYZ'\n",
            "    digits = '0123456789'\n",
            "    hexdigits = '0123456789abcdefABCDEF'\n",
            "    octdigits = '01234567'\n",
            "    printable = '0123456789abcdefghijklmnopqrstuvwxyzABCDEFGHIJKLMNOPQRSTU...\n",
            "    punctuation = '!\"#$%&\\'()*+,-./:;<=>?@[\\\\]^_`{|}~'\n",
            "    whitespace = ' \\t\\n\\r\\x0b\\x0c'\n",
            "\n",
            "FILE\n",
            "    /usr/lib/python3.6/string.py\n",
            "\n",
            "\n"
          ],
          "name": "stdout"
        }
      ]
    },
    {
      "metadata": {
        "id": "HZtarHGq1KEu",
        "colab_type": "code",
        "outputId": "d38470a6-a44c-4ec3-9f96-e7ae8dd56b17",
        "colab": {
          "base_uri": "https://localhost:8080/",
          "height": 34
        }
      },
      "cell_type": "code",
      "source": [
        "type(float('10.3'))"
      ],
      "execution_count": 51,
      "outputs": [
        {
          "output_type": "execute_result",
          "data": {
            "text/plain": [
              "float"
            ]
          },
          "metadata": {
            "tags": []
          },
          "execution_count": 51
        }
      ]
    },
    {
      "metadata": {
        "id": "7p9kwgCf1KEw",
        "colab_type": "code",
        "colab": {}
      },
      "cell_type": "code",
      "source": [
        "a = 'a'"
      ],
      "execution_count": 0,
      "outputs": []
    },
    {
      "metadata": {
        "id": "ynGBk1GJ1KEx",
        "colab_type": "code",
        "colab": {}
      },
      "cell_type": "code",
      "source": [
        "# press tab for help after .\n",
        "a."
      ],
      "execution_count": 0,
      "outputs": []
    },
    {
      "metadata": {
        "id": "kYXY8tiF1KEy",
        "colab_type": "code",
        "outputId": "76983bca-9aa2-44f3-97f0-662edc5a8c25",
        "colab": {
          "base_uri": "https://localhost:8080/",
          "height": 34
        }
      },
      "cell_type": "code",
      "source": [
        "a='Hello'\n",
        "b = a.lower()\n",
        "print(b)"
      ],
      "execution_count": 54,
      "outputs": [
        {
          "output_type": "stream",
          "text": [
            "hello\n"
          ],
          "name": "stdout"
        }
      ]
    },
    {
      "metadata": {
        "id": "faved0l71KE0",
        "colab_type": "code",
        "outputId": "1c5fb547-750a-4b71-f3c2-9b4e07ba7326",
        "colab": {
          "base_uri": "https://localhost:8080/",
          "height": 52
        }
      },
      "cell_type": "code",
      "source": [
        "print(st.ascii_letters)\n",
        "'a' in st.ascii_letters"
      ],
      "execution_count": 56,
      "outputs": [
        {
          "output_type": "stream",
          "text": [
            "abcdefghijklmnopqrstuvwxyzABCDEFGHIJKLMNOPQRSTUVWXYZ\n"
          ],
          "name": "stdout"
        },
        {
          "output_type": "execute_result",
          "data": {
            "text/plain": [
              "True"
            ]
          },
          "metadata": {
            "tags": []
          },
          "execution_count": 56
        }
      ]
    },
    {
      "metadata": {
        "id": "G1B-lHEr1KE1",
        "colab_type": "text"
      },
      "cell_type": "markdown",
      "source": [
        "### Lists\n",
        "\n",
        "Lists are a built-in data type which require other data types to be useful. A list is a collection of other objects – floats, integers, complex numbers, strings or even other lists.\n",
        "\n",
        "Lists also support slicing to retrieve one or more elements. Basic lists are constructed using square braces, ``[]``, and values are separated using\n",
        "commas."
      ]
    },
    {
      "metadata": {
        "id": "u4imrEdU1KE1",
        "colab_type": "code",
        "outputId": "2ff803ab-aaf7-441b-8062-890f9b279e8c",
        "colab": {
          "base_uri": "https://localhost:8080/",
          "height": 34
        }
      },
      "cell_type": "code",
      "source": [
        "l=[]\n",
        "type(l)"
      ],
      "execution_count": 57,
      "outputs": [
        {
          "output_type": "execute_result",
          "data": {
            "text/plain": [
              "list"
            ]
          },
          "metadata": {
            "tags": []
          },
          "execution_count": 57
        }
      ]
    },
    {
      "metadata": {
        "id": "P4YbcqGH1KE4",
        "colab_type": "code",
        "outputId": "9e7b2224-6b31-4226-8284-2b7a1738629b",
        "colab": {
          "base_uri": "https://localhost:8080/",
          "height": 34
        }
      },
      "cell_type": "code",
      "source": [
        "x=[1,2,3,4,[1,2,3,4],'jordi']\n",
        "print(x[4:], x[0], x[5])"
      ],
      "execution_count": 59,
      "outputs": [
        {
          "output_type": "stream",
          "text": [
            "[[1, 2, 3, 4], 'jordi'] 1 jordi\n"
          ],
          "name": "stdout"
        }
      ]
    },
    {
      "metadata": {
        "id": "MhT6NoUm1KE5",
        "colab_type": "code",
        "outputId": "b92650bb-a3ea-441b-b253-7934d7a2d25b",
        "colab": {
          "base_uri": "https://localhost:8080/",
          "height": 34
        }
      },
      "cell_type": "code",
      "source": [
        "x[-2:]  # The stride can also be negative which can be used to select the\n",
        "        # elements of a list in reverse order."
      ],
      "execution_count": 60,
      "outputs": [
        {
          "output_type": "execute_result",
          "data": {
            "text/plain": [
              "[[1, 2, 3, 4], 'jordi']"
            ]
          },
          "metadata": {
            "tags": []
          },
          "execution_count": 60
        }
      ]
    },
    {
      "metadata": {
        "id": "HPnPeUyy1KE8",
        "colab_type": "text"
      },
      "cell_type": "markdown",
      "source": [
        "Lists can be multidimensional and slicing can be done directly in higher dimensions:"
      ]
    },
    {
      "metadata": {
        "id": "3Rwo7U7m1KE8",
        "colab_type": "code",
        "outputId": "ad02ec47-e90c-4b0c-fa11-e99846d78a16",
        "colab": {
          "base_uri": "https://localhost:8080/",
          "height": 34
        }
      },
      "cell_type": "code",
      "source": [
        "x = [[1,2,3,4], [5,6,7,8]]\n",
        "print(x[0], x[0][0])"
      ],
      "execution_count": 61,
      "outputs": [
        {
          "output_type": "stream",
          "text": [
            "[1, 2, 3, 4] 1\n"
          ],
          "name": "stdout"
        }
      ]
    },
    {
      "metadata": {
        "id": "cql2_TaL1KFA",
        "colab_type": "text"
      },
      "cell_type": "markdown",
      "source": [
        "### Conditionals\n",
        "\n",
        "The conditional structure in Python is <code>If</code>. It is usally combined with \n",
        "relational operators: <code> <, <=, ==, >=, >, != </code>."
      ]
    },
    {
      "metadata": {
        "id": "Ux7SHC951KFA",
        "colab_type": "code",
        "outputId": "39c18a84-d47d-4d38-d160-bf929eed54e3",
        "colab": {
          "base_uri": "https://localhost:8080/",
          "height": 52
        }
      },
      "cell_type": "code",
      "source": [
        "def main(celsius):\n",
        "    fahrenheit = 9.0 /5.0 * celsius + 32\n",
        "    print(\"The temperature in Fahrenheit is\", fahrenheit)\n",
        "    if fahrenheit > 90:\n",
        "        print(\"It's really hot out there.\")\n",
        "    elif fahrenheit < 30:\n",
        "        print(\"It's really cold out there.\")\n",
        "    else: pass\n",
        "        \n",
        "main(35)"
      ],
      "execution_count": 65,
      "outputs": [
        {
          "output_type": "stream",
          "text": [
            "The temperature in Fahrenheit is 95.0\n",
            "It's really hot out there.\n"
          ],
          "name": "stdout"
        }
      ]
    },
    {
      "metadata": {
        "id": "JR7VYbCI1KFD",
        "colab_type": "text"
      },
      "cell_type": "markdown",
      "source": [
        "``If`` statesments can be combined with loops (``for``, ``while``):"
      ]
    },
    {
      "metadata": {
        "id": "O3n6JrAx1KFE",
        "colab_type": "code",
        "outputId": "bbcf155f-7fe0-4346-a895-ae685a01e23c",
        "colab": {
          "base_uri": "https://localhost:8080/",
          "height": 34
        }
      },
      "cell_type": "code",
      "source": [
        "numbers = [-5, 3,2,-1,9,6]\n",
        "total = 0\n",
        "for n in numbers:\n",
        "    if n >= 0:\n",
        "        total += n\n",
        "print(total)"
      ],
      "execution_count": 66,
      "outputs": [
        {
          "output_type": "stream",
          "text": [
            "20\n"
          ],
          "name": "stdout"
        }
      ]
    },
    {
      "metadata": {
        "id": "cD-3x0sC1KFF",
        "colab_type": "code",
        "outputId": "e1b887c6-46be-4744-80b4-1bf274105975",
        "colab": {
          "base_uri": "https://localhost:8080/",
          "height": 34
        }
      },
      "cell_type": "code",
      "source": [
        "def average(a):\n",
        "    sum = 0.0\n",
        "    for i in a:\n",
        "        sum = sum + i\n",
        "    return sum/len(a)\n",
        "\n",
        "average([1,2,3,4])"
      ],
      "execution_count": 67,
      "outputs": [
        {
          "output_type": "execute_result",
          "data": {
            "text/plain": [
              "2.5"
            ]
          },
          "metadata": {
            "tags": []
          },
          "execution_count": 67
        }
      ]
    },
    {
      "metadata": {
        "id": "oa9Yft0b1KFH",
        "colab_type": "code",
        "outputId": "d795b1d9-f32d-413f-cbd9-697bb152754a",
        "colab": {
          "base_uri": "https://localhost:8080/",
          "height": 34
        }
      },
      "cell_type": "code",
      "source": [
        "def sumdif(x,y):\n",
        "    sum, dif = x+y, x-y\n",
        "    return sum, dif\n",
        "\n",
        "a, b = sumdif(2,2)\n",
        "print(a, b)"
      ],
      "execution_count": 69,
      "outputs": [
        {
          "output_type": "stream",
          "text": [
            "4 0\n"
          ],
          "name": "stdout"
        }
      ]
    },
    {
      "metadata": {
        "id": "eSgGE1991KFJ",
        "colab_type": "code",
        "colab": {
          "base_uri": "https://localhost:8080/",
          "height": 34
        },
        "outputId": "16f40222-4277-4b9d-b30f-9f404eafd93f"
      },
      "cell_type": "code",
      "source": [
        "def main(n):\n",
        "    cont = 0\n",
        "    while (int(n) > 0):\n",
        "        cont += 1\n",
        "        n = n/2\n",
        "#        print n\n",
        "    return cont-1\n",
        "\n",
        "main(10)\n",
        "# main(10.3)"
      ],
      "execution_count": 70,
      "outputs": [
        {
          "output_type": "execute_result",
          "data": {
            "text/plain": [
              "3"
            ]
          },
          "metadata": {
            "tags": []
          },
          "execution_count": 70
        }
      ]
    },
    {
      "metadata": {
        "id": "3YHwbLhF1KFK",
        "colab_type": "text"
      },
      "cell_type": "markdown",
      "source": [
        "### Boolean operators."
      ]
    },
    {
      "metadata": {
        "id": "sFzP5F8e1KFL",
        "colab_type": "code",
        "outputId": "5d2c7ed0-99b0-40b3-f794-4e03e377f1ae",
        "colab": {
          "base_uri": "https://localhost:8080/",
          "height": 34
        }
      },
      "cell_type": "code",
      "source": [
        "a = 4\n",
        "b = 40\n",
        "(a>2) and (b>30)"
      ],
      "execution_count": 71,
      "outputs": [
        {
          "output_type": "execute_result",
          "data": {
            "text/plain": [
              "True"
            ]
          },
          "metadata": {
            "tags": []
          },
          "execution_count": 71
        }
      ]
    },
    {
      "metadata": {
        "id": "yr4v1Rzg1KFM",
        "colab_type": "code",
        "outputId": "9a7c3fa8-ae07-4919-ebbd-a29bdaa929ba",
        "colab": {
          "base_uri": "https://localhost:8080/",
          "height": 34
        }
      },
      "cell_type": "code",
      "source": [
        "(a>2) or (b>100)"
      ],
      "execution_count": 72,
      "outputs": [
        {
          "output_type": "execute_result",
          "data": {
            "text/plain": [
              "True"
            ]
          },
          "metadata": {
            "tags": []
          },
          "execution_count": 72
        }
      ]
    },
    {
      "metadata": {
        "id": "4iUjZOPm1KFO",
        "colab_type": "code",
        "outputId": "9c68b017-8797-428e-f1f2-c33698285b8e",
        "colab": {
          "base_uri": "https://localhost:8080/",
          "height": 34
        }
      },
      "cell_type": "code",
      "source": [
        "not(a>2)"
      ],
      "execution_count": 73,
      "outputs": [
        {
          "output_type": "execute_result",
          "data": {
            "text/plain": [
              "False"
            ]
          },
          "metadata": {
            "tags": []
          },
          "execution_count": 73
        }
      ]
    },
    {
      "metadata": {
        "id": "FhAVGUOt1KFP",
        "colab_type": "text"
      },
      "cell_type": "markdown",
      "source": [
        "### Data Collections\n",
        "\n",
        "We need to represent data collections: words in a text, students in a course, experimental data, etc., or to store intermediate results. The most simple data collection is the <code>list</code> (an ordered sequence of objects):"
      ]
    },
    {
      "metadata": {
        "id": "EIaJ8CRC1KFQ",
        "colab_type": "code",
        "outputId": "4194201a-73c6-4f8a-c9f7-0f6bc6fac034",
        "colab": {
          "base_uri": "https://localhost:8080/",
          "height": 34
        }
      },
      "cell_type": "code",
      "source": [
        "list(range(1,99,7))"
      ],
      "execution_count": 75,
      "outputs": [
        {
          "output_type": "execute_result",
          "data": {
            "text/plain": [
              "[1, 8, 15, 22, 29, 36, 43, 50, 57, 64, 71, 78, 85, 92]"
            ]
          },
          "metadata": {
            "tags": []
          },
          "execution_count": 75
        }
      ]
    },
    {
      "metadata": {
        "id": "0VsNDgNf1KFS",
        "colab_type": "code",
        "outputId": "0a63a58a-ab9b-4162-c6c7-f8e771c13443",
        "colab": {
          "base_uri": "https://localhost:8080/",
          "height": 34
        }
      },
      "cell_type": "code",
      "source": [
        "b = \"This is an example\".split()\n",
        "print(b)"
      ],
      "execution_count": 79,
      "outputs": [
        {
          "output_type": "stream",
          "text": [
            "['This', 'is', 'an', 'example']\n"
          ],
          "name": "stdout"
        }
      ]
    },
    {
      "metadata": {
        "id": "0RPhlzFL1KFV",
        "colab_type": "text"
      },
      "cell_type": "markdown",
      "source": [
        "A list is an *ordered, mutable and dynamic* collection of *non-homogeneous* objects:"
      ]
    },
    {
      "metadata": {
        "id": "QmB1RVwI1KFV",
        "colab_type": "code",
        "outputId": "2c4b37ea-0337-4f13-8633-abd75c3e25f6",
        "colab": {
          "base_uri": "https://localhost:8080/",
          "height": 34
        }
      },
      "cell_type": "code",
      "source": [
        "a = [1,2,3,4]\n",
        "a[1] = 1\n",
        "print(a)"
      ],
      "execution_count": 80,
      "outputs": [
        {
          "output_type": "stream",
          "text": [
            "[1, 1, 3, 4]\n"
          ],
          "name": "stdout"
        }
      ]
    },
    {
      "metadata": {
        "id": "Wx6JeNad1KFX",
        "colab_type": "code",
        "outputId": "38e02eb1-2d9d-4847-c4c4-1364d4db90c3",
        "colab": {
          "base_uri": "https://localhost:8080/",
          "height": 34
        }
      },
      "cell_type": "code",
      "source": [
        "c = a + b\n",
        "print(c)"
      ],
      "execution_count": 81,
      "outputs": [
        {
          "output_type": "stream",
          "text": [
            "[1, 1, 3, 4, 'This', 'is', 'an', 'example']\n"
          ],
          "name": "stdout"
        }
      ]
    },
    {
      "metadata": {
        "id": "fb05E_FD1KFZ",
        "colab_type": "code",
        "outputId": "d73e392b-4fe9-4a81-efe3-22da4dfda2e5",
        "colab": {
          "base_uri": "https://localhost:8080/",
          "height": 34
        }
      },
      "cell_type": "code",
      "source": [
        "zeroes = [0] * 10\n",
        "del zeroes[5:]\n",
        "print(zeroes)"
      ],
      "execution_count": 82,
      "outputs": [
        {
          "output_type": "stream",
          "text": [
            "[0, 0, 0, 0, 0]\n"
          ],
          "name": "stdout"
        }
      ]
    },
    {
      "metadata": {
        "id": "qUJgw0fO1KFb",
        "colab_type": "code",
        "outputId": "1a502032-c61c-4653-c194-7df48e32606d",
        "colab": {
          "base_uri": "https://localhost:8080/",
          "height": 34
        }
      },
      "cell_type": "code",
      "source": [
        "zeroes.append(1)\n",
        "print(zeroes)"
      ],
      "execution_count": 83,
      "outputs": [
        {
          "output_type": "stream",
          "text": [
            "[0, 0, 0, 0, 0, 1]\n"
          ],
          "name": "stdout"
        }
      ]
    },
    {
      "metadata": {
        "id": "OzjNvVAq1KFe",
        "colab_type": "code",
        "outputId": "bffae88b-c88d-410b-e39b-8cd28d1c2823",
        "colab": {
          "base_uri": "https://localhost:8080/",
          "height": 34
        }
      },
      "cell_type": "code",
      "source": [
        "zeroes.remove(1)\n",
        "print(zeroes)"
      ],
      "execution_count": 84,
      "outputs": [
        {
          "output_type": "stream",
          "text": [
            "[0, 0, 0, 0, 0]\n"
          ],
          "name": "stdout"
        }
      ]
    },
    {
      "metadata": {
        "id": "vCXYzZ6D1KFf",
        "colab_type": "code",
        "outputId": "339a07e3-b2a5-464a-ddd2-63d2df4b4d6c",
        "colab": {
          "base_uri": "https://localhost:8080/",
          "height": 34
        }
      },
      "cell_type": "code",
      "source": [
        "if 1 in zeroes:\n",
        "    print(False)\n",
        "else: \n",
        "    print(True)"
      ],
      "execution_count": 85,
      "outputs": [
        {
          "output_type": "stream",
          "text": [
            "True\n"
          ],
          "name": "stdout"
        }
      ]
    },
    {
      "metadata": {
        "id": "H3M4oIIf1KFh",
        "colab_type": "text"
      },
      "cell_type": "markdown",
      "source": [
        "### References\n",
        "\n",
        "We can inspect the reference of an object:"
      ]
    },
    {
      "metadata": {
        "id": "ruKFqD7-1KFh",
        "colab_type": "code",
        "outputId": "be618584-7aef-402e-b671-8a6a20ea633f",
        "colab": {
          "base_uri": "https://localhost:8080/",
          "height": 34
        }
      },
      "cell_type": "code",
      "source": [
        "a ='hello'\n",
        "print(id(a))"
      ],
      "execution_count": 86,
      "outputs": [
        {
          "output_type": "stream",
          "text": [
            "140666847197592\n"
          ],
          "name": "stdout"
        }
      ]
    },
    {
      "metadata": {
        "id": "bjSSaOf01KFj",
        "colab_type": "text"
      },
      "cell_type": "markdown",
      "source": [
        "Two different objects:"
      ]
    },
    {
      "metadata": {
        "id": "9yHefyl91KFj",
        "colab_type": "code",
        "outputId": "d7dcaf65-5e1e-4495-f5bb-a62c2526c6ca",
        "colab": {
          "base_uri": "https://localhost:8080/",
          "height": 34
        }
      },
      "cell_type": "code",
      "source": [
        "a = [1,2,3]\n",
        "b = [1,2,3]\n",
        "print(id(a), id(b))"
      ],
      "execution_count": 87,
      "outputs": [
        {
          "output_type": "stream",
          "text": [
            "140666837632008 140666837602504\n"
          ],
          "name": "stdout"
        }
      ]
    },
    {
      "metadata": {
        "id": "pBBsK3EO1KFk",
        "colab_type": "text"
      },
      "cell_type": "markdown",
      "source": [
        "Object alias:"
      ]
    },
    {
      "metadata": {
        "id": "KdKWBTLP1KFl",
        "colab_type": "code",
        "outputId": "a287dce8-8516-417f-d467-5a7424595405",
        "colab": {
          "base_uri": "https://localhost:8080/",
          "height": 34
        }
      },
      "cell_type": "code",
      "source": [
        "a = [1,2,3]\n",
        "b = a                     # alias\n",
        "print(id(a), id(b))"
      ],
      "execution_count": 88,
      "outputs": [
        {
          "output_type": "stream",
          "text": [
            "140666830339272 140666830339272\n"
          ],
          "name": "stdout"
        }
      ]
    },
    {
      "metadata": {
        "id": "FTAqyj601KFm",
        "colab_type": "text"
      },
      "cell_type": "markdown",
      "source": [
        "Cloning:"
      ]
    },
    {
      "metadata": {
        "id": "zSdpljJl1KFn",
        "colab_type": "code",
        "outputId": "9c3d2bc0-9722-4361-91b6-5078cc396b20",
        "colab": {
          "base_uri": "https://localhost:8080/",
          "height": 34
        }
      },
      "cell_type": "code",
      "source": [
        "a = [1,2,3]\n",
        "b = a[:]                  # cloning with :\n",
        "\n",
        "print (a, b, b[1:], id(a), id(b), id(b[1:]))"
      ],
      "execution_count": 89,
      "outputs": [
        {
          "output_type": "stream",
          "text": [
            "[1, 2, 3] [1, 2, 3] [2, 3] 140666830268360 140666830336520 140666830337480\n"
          ],
          "name": "stdout"
        }
      ]
    },
    {
      "metadata": {
        "id": "pn8zQjTB1KFo",
        "colab_type": "text"
      },
      "cell_type": "markdown",
      "source": [
        "When a list is an argument of a function, we are sending the *reference*, not a *copy*"
      ]
    },
    {
      "metadata": {
        "id": "8B977Q4M1KFo",
        "colab_type": "code",
        "outputId": "aed2f5c1-d9c5-4fb4-d93a-6f1a997d41be",
        "colab": {
          "base_uri": "https://localhost:8080/",
          "height": 34
        }
      },
      "cell_type": "code",
      "source": [
        "def head(list):\n",
        "    return list[0]\n",
        "\n",
        "numbers=[1,2,3,4]\n",
        "print(head(numbers), numbers)"
      ],
      "execution_count": 90,
      "outputs": [
        {
          "output_type": "stream",
          "text": [
            "1 [1, 2, 3, 4]\n"
          ],
          "name": "stdout"
        }
      ]
    },
    {
      "metadata": {
        "id": "nyrfrbco1KFp",
        "colab_type": "code",
        "outputId": "b16fdf29-723e-4f60-91fb-fa1e18ed40c8",
        "colab": {
          "base_uri": "https://localhost:8080/",
          "height": 34
        }
      },
      "cell_type": "code",
      "source": [
        "def change_first_element(list):\n",
        "    list[0]=0\n",
        "    \n",
        "numbers=[1,2,3,4]\n",
        "change_first_element(numbers)\n",
        "print(numbers)"
      ],
      "execution_count": 91,
      "outputs": [
        {
          "output_type": "stream",
          "text": [
            "[0, 2, 3, 4]\n"
          ],
          "name": "stdout"
        }
      ]
    },
    {
      "metadata": {
        "id": "VvDoqbLR1KFq",
        "colab_type": "text"
      },
      "cell_type": "markdown",
      "source": [
        "If we return a list we are returning a reference:"
      ]
    },
    {
      "metadata": {
        "id": "15ziEQne1KFq",
        "colab_type": "code",
        "outputId": "bebd3347-bb2f-44a2-b495-971022a45fc0",
        "colab": {
          "base_uri": "https://localhost:8080/",
          "height": 52
        }
      },
      "cell_type": "code",
      "source": [
        "def tail(list):\n",
        "    return list[1:]     # we are creating a new list\n",
        "\n",
        "numbers=[1,2,3,4]\n",
        "rest = tail(numbers)\n",
        "print(rest, numbers)\n",
        "print(id(rest), id(numbers))"
      ],
      "execution_count": 92,
      "outputs": [
        {
          "output_type": "stream",
          "text": [
            "[2, 3, 4] [1, 2, 3, 4]\n",
            "140666830311688 140666830313544\n"
          ],
          "name": "stdout"
        }
      ]
    },
    {
      "metadata": {
        "id": "PJnVO7dQ1KFs",
        "colab_type": "code",
        "outputId": "d42c1f84-ce31-4e2d-f65d-11ddfa8080c3",
        "colab": {
          "base_uri": "https://localhost:8080/",
          "height": 131
        }
      },
      "cell_type": "code",
      "source": [
        "# Press tab\n",
        "numbers."
      ],
      "execution_count": 93,
      "outputs": [
        {
          "output_type": "error",
          "ename": "SyntaxError",
          "evalue": "ignored",
          "traceback": [
            "\u001b[0;36m  File \u001b[0;32m\"<ipython-input-93-8e378a2dbf5e>\"\u001b[0;36m, line \u001b[0;32m1\u001b[0m\n\u001b[0;31m    numbers.\u001b[0m\n\u001b[0m            ^\u001b[0m\n\u001b[0;31mSyntaxError\u001b[0m\u001b[0;31m:\u001b[0m invalid syntax\n"
          ]
        }
      ]
    },
    {
      "metadata": {
        "id": "kV7ixV_K1KFs",
        "colab_type": "text"
      },
      "cell_type": "markdown",
      "source": [
        "Sometimes it is important to perform a *sanity check* about what is doing a pre-defined function:"
      ]
    },
    {
      "metadata": {
        "id": "PhGc59tH1KFt",
        "colab_type": "code",
        "outputId": "3878777e-72eb-4cf9-ca13-274d30ee760a",
        "colab": {
          "base_uri": "https://localhost:8080/",
          "height": 52
        }
      },
      "cell_type": "code",
      "source": [
        "numbers=[1,2,3,4]\n",
        "\n",
        "def test(l):\n",
        "    return l.reverse()\n",
        "\n",
        "# This method does not return any \n",
        "# value but reverse the given object from the list.\n",
        "\n",
        "\n",
        "print(numbers) \n",
        "print(test(numbers), numbers)"
      ],
      "execution_count": 4,
      "outputs": [
        {
          "output_type": "stream",
          "text": [
            "[1, 2, 3, 4]\n",
            "None [4, 3, 2, 1]\n"
          ],
          "name": "stdout"
        }
      ]
    },
    {
      "metadata": {
        "id": "ckEQX_0S1KFt",
        "colab_type": "text"
      },
      "cell_type": "markdown",
      "source": [
        "### Dictionaries\n",
        "\n",
        "A dictionary is a collection that allows the access of an *element* by using a *key*:"
      ]
    },
    {
      "metadata": {
        "id": "lC5aYMg81KFu",
        "colab_type": "code",
        "outputId": "2f5717e6-d3cd-4a07-8297-a146330b19d3",
        "colab": {
          "base_uri": "https://localhost:8080/",
          "height": 34
        }
      },
      "cell_type": "code",
      "source": [
        "dict = {\"d\": \"D\", \"b\":\"B\", \"c\":\"C\"}\n",
        "dict[\"d\"]"
      ],
      "execution_count": 5,
      "outputs": [
        {
          "output_type": "execute_result",
          "data": {
            "text/plain": [
              "'D'"
            ]
          },
          "metadata": {
            "tags": []
          },
          "execution_count": 5
        }
      ]
    },
    {
      "metadata": {
        "id": "_utq7Fce1KFv",
        "colab_type": "text"
      },
      "cell_type": "markdown",
      "source": [
        "Dictionaries are *mutable* and *dynamic*:"
      ]
    },
    {
      "metadata": {
        "id": "Sc1NcNrr1KFv",
        "colab_type": "code",
        "outputId": "192f4943-a06a-4da8-a6ab-82f371d14abb",
        "colab": {
          "base_uri": "https://localhost:8080/",
          "height": 34
        }
      },
      "cell_type": "code",
      "source": [
        "dict[\"a\"]=\"A\"\n",
        "type(dict)==dict"
      ],
      "execution_count": 6,
      "outputs": [
        {
          "output_type": "execute_result",
          "data": {
            "text/plain": [
              "False"
            ]
          },
          "metadata": {
            "tags": []
          },
          "execution_count": 6
        }
      ]
    },
    {
      "metadata": {
        "id": "zMD2KniY1KFw",
        "colab_type": "code",
        "outputId": "f50e69d0-bdc2-4cae-8e2d-e8feaa6d76d8",
        "colab": {
          "base_uri": "https://localhost:8080/",
          "height": 34
        }
      },
      "cell_type": "code",
      "source": [
        "\"a\" in dict"
      ],
      "execution_count": 10,
      "outputs": [
        {
          "output_type": "execute_result",
          "data": {
            "text/plain": [
              "True"
            ]
          },
          "metadata": {
            "tags": []
          },
          "execution_count": 10
        }
      ]
    },
    {
      "metadata": {
        "id": "59v4z9o-1KFx",
        "colab_type": "code",
        "outputId": "7244e1a7-14e3-40bf-fe81-d641dac38a82",
        "colab": {
          "base_uri": "https://localhost:8080/",
          "height": 34
        }
      },
      "cell_type": "code",
      "source": [
        "del dict[\"a\"]\n",
        "print(dict)"
      ],
      "execution_count": 12,
      "outputs": [
        {
          "output_type": "stream",
          "text": [
            "{'d': 'D', 'b': 'B', 'c': 'C'}\n"
          ],
          "name": "stdout"
        }
      ]
    },
    {
      "metadata": {
        "id": "p5h4N_F31KFy",
        "colab_type": "code",
        "outputId": "77aa3d5a-5fc9-4ea7-d057-900a3b929f97",
        "colab": {
          "base_uri": "https://localhost:8080/",
          "height": 34
        }
      },
      "cell_type": "code",
      "source": [
        "dict = {\"d\": \"D\", \"b\":\"B\", \"c\":\"C\"}\n",
        "dict.items()"
      ],
      "execution_count": 13,
      "outputs": [
        {
          "output_type": "execute_result",
          "data": {
            "text/plain": [
              "dict_items([('d', 'D'), ('b', 'B'), ('c', 'C')])"
            ]
          },
          "metadata": {
            "tags": []
          },
          "execution_count": 13
        }
      ]
    },
    {
      "metadata": {
        "id": "GKSrjsYB1KF0",
        "colab_type": "text"
      },
      "cell_type": "markdown",
      "source": [
        "### Tuples\n",
        "\n",
        "Tuples are **non-mutable** lists:"
      ]
    },
    {
      "metadata": {
        "id": "2ub-b3nR1KF0",
        "colab_type": "code",
        "colab": {
          "base_uri": "https://localhost:8080/",
          "height": 34
        },
        "outputId": "af677bdd-72ef-4197-f9ee-d1d9f0b7182e"
      },
      "cell_type": "code",
      "source": [
        "tup = ('a', 'b', 'c')\n",
        "print(type(tup), tup[1:3])"
      ],
      "execution_count": 14,
      "outputs": [
        {
          "output_type": "stream",
          "text": [
            "<class 'tuple'> ('b', 'c')\n"
          ],
          "name": "stdout"
        }
      ]
    },
    {
      "metadata": {
        "id": "OkHtKUZe1KF1",
        "colab_type": "code",
        "colab": {
          "base_uri": "https://localhost:8080/",
          "height": 164
        },
        "outputId": "341a1d86-8028-4e25-b174-21384bff86e3"
      },
      "cell_type": "code",
      "source": [
        "tup[0]='d'"
      ],
      "execution_count": 15,
      "outputs": [
        {
          "output_type": "error",
          "ename": "TypeError",
          "evalue": "ignored",
          "traceback": [
            "\u001b[0;31m---------------------------------------------------------------------------\u001b[0m",
            "\u001b[0;31mTypeError\u001b[0m                                 Traceback (most recent call last)",
            "\u001b[0;32m<ipython-input-15-e43c22bd0fba>\u001b[0m in \u001b[0;36m<module>\u001b[0;34m()\u001b[0m\n\u001b[0;32m----> 1\u001b[0;31m \u001b[0mtup\u001b[0m\u001b[0;34m[\u001b[0m\u001b[0;36m0\u001b[0m\u001b[0;34m]\u001b[0m\u001b[0;34m=\u001b[0m\u001b[0;34m'd'\u001b[0m\u001b[0;34m\u001b[0m\u001b[0;34m\u001b[0m\u001b[0m\n\u001b[0m",
            "\u001b[0;31mTypeError\u001b[0m: 'tuple' object does not support item assignment"
          ]
        }
      ]
    },
    {
      "metadata": {
        "id": "bhxIQiEz1KF3",
        "colab_type": "text"
      },
      "cell_type": "markdown",
      "source": [
        "### Example: How to compute the statistics of words in a document."
      ]
    },
    {
      "metadata": {
        "id": "1d63qqUT1KF3",
        "colab_type": "code",
        "outputId": "41c958f4-3d94-474d-ee6b-e546a9bbfac2",
        "colab": {
          "base_uri": "https://localhost:8080/",
          "height": 219
        }
      },
      "cell_type": "code",
      "source": [
        "# We can read a file in a list of line strings or as a string\n",
        "text = open(\"https://raw.githubusercontent.com/DataScienceUB/DataScienceWorkshop-BS/master/text.txt\",'r').readlines()\n",
        "for l in text:\n",
        "    print(l,)"
      ],
      "execution_count": 18,
      "outputs": [
        {
          "output_type": "error",
          "ename": "FileNotFoundError",
          "evalue": "ignored",
          "traceback": [
            "\u001b[0;31m---------------------------------------------------------------------------\u001b[0m",
            "\u001b[0;31mFileNotFoundError\u001b[0m                         Traceback (most recent call last)",
            "\u001b[0;32m<ipython-input-18-dfcd4cd66280>\u001b[0m in \u001b[0;36m<module>\u001b[0;34m()\u001b[0m\n\u001b[0;32m----> 1\u001b[0;31m \u001b[0mtext\u001b[0m \u001b[0;34m=\u001b[0m \u001b[0mopen\u001b[0m\u001b[0;34m(\u001b[0m\u001b[0;34m\"https://raw.githubusercontent.com/DataScienceUB/DataScienceWorkshop-BS/master/text.txt\"\u001b[0m\u001b[0;34m,\u001b[0m\u001b[0;34m'r'\u001b[0m\u001b[0;34m)\u001b[0m\u001b[0;34m.\u001b[0m\u001b[0mreadlines\u001b[0m\u001b[0;34m(\u001b[0m\u001b[0;34m)\u001b[0m\u001b[0;34m\u001b[0m\u001b[0;34m\u001b[0m\u001b[0m\n\u001b[0m\u001b[1;32m      2\u001b[0m \u001b[0;32mfor\u001b[0m \u001b[0ml\u001b[0m \u001b[0;32min\u001b[0m \u001b[0mtext\u001b[0m\u001b[0;34m:\u001b[0m\u001b[0;34m\u001b[0m\u001b[0;34m\u001b[0m\u001b[0m\n\u001b[1;32m      3\u001b[0m     \u001b[0mprint\u001b[0m\u001b[0;34m(\u001b[0m\u001b[0ml\u001b[0m\u001b[0;34m,\u001b[0m\u001b[0;34m)\u001b[0m\u001b[0;34m\u001b[0m\u001b[0;34m\u001b[0m\u001b[0m\n",
            "\u001b[0;31mFileNotFoundError\u001b[0m: [Errno 2] No such file or directory: 'https://raw.githubusercontent.com/DataScienceUB/DataScienceWorkshop-BS/master/text.txt'"
          ]
        }
      ]
    },
    {
      "metadata": {
        "id": "Q7lusAuSqgb6",
        "colab_type": "code",
        "colab": {
          "base_uri": "https://localhost:8080/",
          "height": 788
        },
        "outputId": "a9570d29-b0e7-439a-9a7e-2a5fa4bd97cf"
      },
      "cell_type": "code",
      "source": [
        "import urllib.request\n",
        "\n",
        "file= 'https://raw.githubusercontent.com/DataScienceUB/DataScienceWorkshop-BS/master/text.txt'\n",
        "page = urllib.request.urlopen(file)\n",
        "\n",
        "for l in page:\n",
        "    print(l,)"
      ],
      "execution_count": 25,
      "outputs": [
        {
          "output_type": "stream",
          "text": [
            "b'\\r\\n'\n",
            "b'                 BORGES....... SU ULTIMO POEMA\\r\\n'\n",
            "b'\\r\\n'\n",
            "b'\\tSi pudiera vivir nuevamente mi vida...\\r\\n'\n",
            "b'\\tEn la proxima cometeria mas errores.\\r\\n'\n",
            "b'\\tNo intentaria ser tan perfecto, \\r\\n'\n",
            "b'\\tme relajaria mas.\\r\\n'\n",
            "b'\\tSeria mas tonto de lo que he sido, \\r\\n'\n",
            "b'\\tde hecho tomaria muy pocas cosas con seriedad.\\r\\n'\n",
            "b'\\tSeria menos higienico.\\r\\n'\n",
            "b'\\tCorreria mas riesgos, \\r\\n'\n",
            "b'\\tharia mas viajes, \\r\\n'\n",
            "b'\\tcontemplaria mas atardeceres,\\r\\n'\n",
            "b'\\tsubiria mas montanas, \\r\\n'\n",
            "b'\\tnadaria mas rios.\\r\\n'\n",
            "b'\\tIria a mas lugares adonde nunca he ido, \\r\\n'\n",
            "b'\\tcomeria mas helados y menos  habas, \\r\\n'\n",
            "b'\\ttendria mas problemas reales \\r\\n'\n",
            "b'\\ty menos IMAGINARIOS.\\r\\n'\n",
            "b'\\tYo fui de esas personas que vivio \\r\\n'\n",
            "b'\\tsensata y prolificamente cada minuto de su vida; \\r\\n'\n",
            "b'\\tclaro que tuve alegrias.\\r\\n'\n",
            "b'\\tPero si pudiera volver atras trataria de tener\\r\\n'\n",
            "b'\\tsolamente buenos momentos.\\r\\n'\n",
            "b'\\tPor si no lo saben, \\r\\n'\n",
            "b'\\tde eso esta hecha la vida,\\r\\n'\n",
            "b'\\tsolo de momentos; \\r\\n'\n",
            "b'\\tno! no te pierdas el ahora.\\r\\n'\n",
            "b'\\tYo era uno de esos que nunca iban a ninguna parte\\r\\n'\n",
            "b'\\tsin un termometro, una bolsa de agua caliente, un\\r\\n'\n",
            "b'\\tparaguas y un paracaidas.\\r\\n'\n",
            "b'\\tSi pudiera volver a vivir \\r\\n'\n",
            "b'\\tcomenzaria a andar descalzo a principios de la\\r\\n'\n",
            "b'\\tprimavera y seguiria asi hasta conclur el oton~o.\\r\\n'\n",
            "b'\\tdaria mas vueltas en calesita; \\r\\n'\n",
            "b'\\tcontemplaria mas amaneceres y \\r\\n'\n",
            "b'\\tjugaria mas con los ninyos, \\r\\n'\n",
            "b'\\tsi tuviera otra vida por delante...\\r\\n'\n",
            "b'\\r\\n'\n",
            "b'\\tPero ya ven, tengo 85 an~os y se que me estoy\\r\\n'\n",
            "b'\\tmuriendo...\\r\\n'\n",
            "b'\\r\\n'\n",
            "b'\\r\\n'\n",
            "b'\\tPero ya ven, tengo 85 an~os y se que me estoy\\r\\n'\n",
            "b'\\tmuriendo...'\n"
          ],
          "name": "stdout"
        }
      ]
    },
    {
      "metadata": {
        "id": "X7xBh1K8r6VF",
        "colab_type": "code",
        "colab": {
          "base_uri": "https://localhost:8080/",
          "height": 54
        },
        "outputId": "18721c50-af21-4ed6-e636-6e98c394c48b"
      },
      "cell_type": "code",
      "source": [
        "import requests\n",
        "file= 'https://raw.githubusercontent.com/DataScienceUB/DataScienceWorkshop-BS/master/text.txt'\n",
        "response = requests.get(file).text\n",
        "response"
      ],
      "execution_count": 27,
      "outputs": [
        {
          "output_type": "execute_result",
          "data": {
            "text/plain": [
              "'\\r\\n                 BORGES....... SU ULTIMO POEMA\\r\\n\\r\\n\\tSi pudiera vivir nuevamente mi vida...\\r\\n\\tEn la proxima cometeria mas errores.\\r\\n\\tNo intentaria ser tan perfecto, \\r\\n\\tme relajaria mas.\\r\\n\\tSeria mas tonto de lo que he sido, \\r\\n\\tde hecho tomaria muy pocas cosas con seriedad.\\r\\n\\tSeria menos higienico.\\r\\n\\tCorreria mas riesgos, \\r\\n\\tharia mas viajes, \\r\\n\\tcontemplaria mas atardeceres,\\r\\n\\tsubiria mas montanas, \\r\\n\\tnadaria mas rios.\\r\\n\\tIria a mas lugares adonde nunca he ido, \\r\\n\\tcomeria mas helados y menos  habas, \\r\\n\\ttendria mas problemas reales \\r\\n\\ty menos IMAGINARIOS.\\r\\n\\tYo fui de esas personas que vivio \\r\\n\\tsensata y prolificamente cada minuto de su vida; \\r\\n\\tclaro que tuve alegrias.\\r\\n\\tPero si pudiera volver atras trataria de tener\\r\\n\\tsolamente buenos momentos.\\r\\n\\tPor si no lo saben, \\r\\n\\tde eso esta hecha la vida,\\r\\n\\tsolo de momentos; \\r\\n\\tno! no te pierdas el ahora.\\r\\n\\tYo era uno de esos que nunca iban a ninguna parte\\r\\n\\tsin un termometro, una bolsa de agua caliente, un\\r\\n\\tparaguas y un paracaidas.\\r\\n\\tSi pudiera volver a vivir \\r\\n\\tcomenzaria a andar descalzo a principios de la\\r\\n\\tprimavera y seguiria asi hasta conclur el oton~o.\\r\\n\\tdaria mas vueltas en calesita; \\r\\n\\tcontemplaria mas amaneceres y \\r\\n\\tjugaria mas con los ninyos, \\r\\n\\tsi tuviera otra vida por delante...\\r\\n\\r\\n\\tPero ya ven, tengo 85 an~os y se que me estoy\\r\\n\\tmuriendo...\\r\\n\\r\\n\\r\\n\\tPero ya ven, tengo 85 an~os y se que me estoy\\r\\n\\tmuriendo...'"
            ]
          },
          "metadata": {
            "tags": []
          },
          "execution_count": 27
        }
      ]
    },
    {
      "metadata": {
        "id": "f8uzDoE61KF4",
        "colab_type": "code",
        "outputId": "f3bdb5c8-8db7-43eb-9e07-3da1eea9164a",
        "colab": {}
      },
      "cell_type": "code",
      "source": [
        "# ipython magic commands\n",
        "\n",
        "%ls"
      ],
      "execution_count": 0,
      "outputs": [
        {
          "output_type": "stream",
          "text": [
            "0.0 Jo.key\r\n",
            "\u001b[31m0.0.0.command\u001b[m\u001b[m*\r\n",
            "0.1 Syllabus.key\r\n",
            "0.2 What is Data Science.key\r\n",
            "0.3 Python Data Science.key\r\n",
            "1. Crash course on Python-NS.ipynb\r\n",
            "\u001b[31m1. Crash course on Python.ipynb\u001b[m\u001b[m*\r\n",
            "6. Computational Statistics for Data Analysis.ipynb\r\n",
            "7. Statistical Inference-Solutions.ipynb\r\n",
            "7. Statistical Inference.html\r\n",
            "7. Statistical Inference.ipynb\r\n",
            "7. Statistical Inference.tex\r\n",
            "\u001b[34m7. Statistical Inference_files\u001b[m\u001b[m/\r\n",
            "9. Bayesian Data Analysis (Copia en conflicto de MacBook Air de jordi 2015-11-05).ipynb\r\n",
            "9. Bayesian Data Analysis-Solutions.ipynb\r\n",
            "9. Bayesian Data Analysis.ipynb\r\n",
            "\u001b[34m9. Bayesian Data Analysis.ipynbfbqjl7\u001b[m\u001b[m/\r\n",
            "Collaborative.ipynb\r\n",
            "Regression_solutions.ipynb\r\n",
            "Section4_3-Introduction-to-PyMC.ipynb\r\n",
            "Test 1.ipynb\r\n",
            "Untitled.ipynb\r\n",
            "Untitled0.ipynb\r\n",
            "\u001b[34mfiles\u001b[m\u001b[m/\r\n",
            "\u001b[34mimages\u001b[m\u001b[m/\r\n",
            "\u001b[34mmarato\u001b[m\u001b[m/\r\n",
            "movie_rating.csv\r\n",
            "mu_1.png\r\n",
            "mu_2.png\r\n",
            "nu.png\r\n",
            "pymc-2.3.6-cp27-none-win_amd64.whl\r\n",
            "pymc.ipynb\r\n",
            "python.rar\r\n",
            "sigma_1.png\r\n",
            "sigma_2.png\r\n",
            "solution.py\r\n",
            "\u001b[34mstyles\u001b[m\u001b[m/\r\n",
            "test.csv\r\n",
            "txtdata.csv\r\n"
          ],
          "name": "stdout"
        }
      ]
    },
    {
      "metadata": {
        "id": "IFThiYzC1KF6",
        "colab_type": "code",
        "outputId": "9a93a602-3c25-4b99-d132-49b309887419",
        "colab": {}
      },
      "cell_type": "code",
      "source": [
        "import string\n",
        "\n",
        "def compare((w1,c1),(w2,c2)):\n",
        "# A sorting funtion returns negative if x<y, zero if x==y, positive if x>y.\n",
        "    if c1 < c2:\n",
        "        return -1\n",
        "    elif c1 == c2:\n",
        "        return 0\n",
        "    else:\n",
        "        return 1\n",
        "    \n",
        "def main():\n",
        "    \n",
        "# We read the file in a string\n",
        "    text = open(\"files/text.txt\",'r').read()\n",
        "    text = string.lower(text)\n",
        "    for ch in '!\"#$%&/()=?¿^*`+¨[]{}-:;,.':\n",
        "        text = string.replace(text, ch, ' ')\n",
        "# We build a list with all words (blank separation)\n",
        "    words = string.split(text)\n",
        "\n",
        "# We use a dictionary for counting words\n",
        "    counts = {}\n",
        "    for w in words:\n",
        "        try:\n",
        "            counts[w] = counts[w] + 1\n",
        "        except KeyError:\n",
        "            counts[w] = 1\n",
        "            \n",
        "# We create a sorted list\n",
        "    items = counts.items()\n",
        "    items.sort(compare, reverse=True)\n",
        "    \n",
        "# We print the list\n",
        "    for i in range(len(items)):\n",
        "        print \"%-2s%3d\" % items[i],'|' ,\n",
        "\n",
        "main()    "
      ],
      "execution_count": 0,
      "outputs": [
        {
          "output_type": "stream",
          "text": [
            "mas 14 | de 10 | y   8 | que  6 | a   5 | si  5 | vida  4 | no  4 | menos  3 | la  3 | pudiera  3 | pero  3 | me  3 | un  3 | estoy  2 | an~os  2 | lo  2 | ven  2 | yo  2 | ya  2 | volver  2 | el  2 | momentos  2 | en  2 | contemplaria  2 | 85  2 | nunca  2 | con  2 | por  2 | vivir  2 | seria  2 | he  2 | tengo  2 | muriendo  2 | su  2 | se  2 | montanas  1 | tener  1 | paracaidas  1 | oton~o  1 | calesita  1 | borges  1 | otra  1 | comeria  1 | iban  1 | personas  1 | te  1 | atardeceres  1 | termometro  1 | sensata  1 | buenos  1 | vueltas  1 | agua  1 | perfecto  1 | andar  1 | haria  1 | bolsa  1 | una  1 | cosas  1 | ninguna  1 | tendria  1 | sido  1 | ser  1 | esos  1 | pocas  1 | tuve  1 | muy  1 | errores  1 | riesgos  1 | jugaria  1 | eso  1 | solo  1 | nadaria  1 | poema  1 | descalzo  1 | problemas  1 | prolificamente  1 | asi  1 | pierdas  1 | subiria  1 | ahora  1 | ido  1 | iria  1 | tomaria  1 | claro  1 | helados  1 | intentaria  1 | cada  1 | amaneceres  1 | relajaria  1 | tonto  1 | principios  1 | viajes  1 | esas  1 | vivio  1 | los  1 | solamente  1 | ninyos  1 | atras  1 | rios  1 | lugares  1 | comenzaria  1 | reales  1 | cometeria  1 | seriedad  1 | saben  1 | ultimo  1 | daria  1 | mi  1 | era  1 | habas  1 | tuviera  1 | fui  1 | esta  1 | adonde  1 | paraguas  1 | tan  1 | proxima  1 | conclur  1 | parte  1 | caliente  1 | hecho  1 | hecha  1 | alegrias  1 | sin  1 | nuevamente  1 | imaginarios  1 | higienico  1 | delante  1 | primavera  1 | seguiria  1 | hasta  1 | correria  1 | minuto  1 | trataria  1 | uno  1 |\n"
          ],
          "name": "stdout"
        }
      ]
    },
    {
      "metadata": {
        "id": "LofWrlpN1KF8",
        "colab_type": "text"
      },
      "cell_type": "markdown",
      "source": [
        "### Lists (and dictionary) comprehensions\n",
        "\n",
        "Lists comprehensions are a way to fit a ``for`` loop, an ``if`` statement, and an assignment all in one line.\n",
        "\n",
        "A list comprehension consists of the following parts:\n",
        "\n",
        "+ An input sequence.\n",
        "+ A variable representing members of the input sequence.\n",
        "+ An optional expression.\n",
        "+ An output expression producing elements of the output list from members of the input sequence that satisfy the predicate."
      ]
    },
    {
      "metadata": {
        "id": "bAs9tG6v1KF8",
        "colab_type": "code",
        "outputId": "7c210b0e-2881-4d27-e9ed-cccaed61a03a",
        "colab": {}
      },
      "cell_type": "code",
      "source": [
        "num = [1, 4, -5, 10, -7, 2, 3, -1]\n",
        "squared = [ x**2 for x in num if x > 0]\n",
        "print type(squared), squared"
      ],
      "execution_count": 0,
      "outputs": [
        {
          "output_type": "stream",
          "text": [
            "<type 'list'> [1, 16, 100, 4, 9]\n"
          ],
          "name": "stdout"
        }
      ]
    },
    {
      "metadata": {
        "id": "Epvgt8FV1KF9",
        "colab_type": "text"
      },
      "cell_type": "markdown",
      "source": [
        "There is a downside to list comprehensions: the entire list has to be stored in memory at once. This isn’t a problem for small lists like the ones in the above examples, or even of lists several orders of magnitude larger. But we can use **<font color=\"red\">generators</font>** to solve this problem.\n",
        "\n",
        "Generator expressions do not load the whole list into memory at once, but instead create a *generator object* so only one list element has to be loaded at any time.\n",
        "\n",
        "Generator expressions have the same syntax as list comprehensions, but with parentheses around the outside instead of brackets:"
      ]
    },
    {
      "metadata": {
        "id": "RuuAH0a11KF9",
        "colab_type": "code",
        "outputId": "0a7f2c79-6b39-4a7e-ce17-02ada06f836d",
        "colab": {}
      },
      "cell_type": "code",
      "source": [
        "num = [1, 4, -5, 10, -7, 2, 3, -1]\n",
        "squared = ( x**2 for x in num if x > 0 )\n",
        "print type(squared), squared"
      ],
      "execution_count": 0,
      "outputs": [
        {
          "output_type": "stream",
          "text": [
            "<type 'generator'> <generator object <genexpr> at 0x11149dcd0>\n"
          ],
          "name": "stdout"
        }
      ]
    },
    {
      "metadata": {
        "id": "ahY58Ifx1KF-",
        "colab_type": "text"
      },
      "cell_type": "markdown",
      "source": [
        "The elements of the generator must be accessed by an iterator because they are generated when needed:"
      ]
    },
    {
      "metadata": {
        "id": "ZlQFjT5K1KF-",
        "colab_type": "code",
        "outputId": "5569bcb8-05c1-45b1-c5d8-2156377b2fb0",
        "colab": {}
      },
      "cell_type": "code",
      "source": [
        "lis = []\n",
        "for item in squared:\n",
        "    lis = lis + [item]\n",
        "print lis"
      ],
      "execution_count": 0,
      "outputs": [
        {
          "output_type": "stream",
          "text": [
            "[1, 16, 100, 4, 9]\n"
          ],
          "name": "stdout"
        }
      ]
    },
    {
      "metadata": {
        "id": "EjTFqk0e1KGA",
        "colab_type": "text"
      },
      "cell_type": "markdown",
      "source": [
        "We can define our own generators with the ``yield`` statesment. For example, let's build a generator for the binary representation of a number between 0 and 1 with arbitrary precision."
      ]
    },
    {
      "metadata": {
        "id": "oCOzWrl51KGB",
        "colab_type": "code",
        "colab": {}
      },
      "cell_type": "code",
      "source": [
        "# binary representation of a number between 0 and 1 (b bits precision).\n",
        "\n",
        "def res(n,b):\n",
        "    bin_a = '.'\n",
        "    for i in range(b):\n",
        "        n *= 2\n",
        "        bin_a +=  str(int(n))\n",
        "        n = n % 1\n",
        "    return bin_a\n",
        "\n",
        "print res(1/3.0,10)"
      ],
      "execution_count": 0,
      "outputs": []
    },
    {
      "metadata": {
        "id": "2BfSQ-PZ1KGC",
        "colab_type": "code",
        "colab": {}
      },
      "cell_type": "code",
      "source": [
        "# binary representation of a number between 0 and 1 (precision as needed).\n",
        "\n",
        "def binRep(n):\n",
        "    while True:\n",
        "        n *= 2\n",
        "        yield int(n)\n",
        "        n = n % 1\n",
        "\n",
        "a = binRep(1/3.) \n",
        "a_bin = '.'\n",
        "for i in range(50):\n",
        "    a_bin +=  str(a.next())\n",
        "    \n",
        "print a_bin"
      ],
      "execution_count": 0,
      "outputs": []
    },
    {
      "metadata": {
        "id": "RcGlFsgX1KGD",
        "colab_type": "text"
      },
      "cell_type": "markdown",
      "source": [
        "** Exercise **\n",
        "\n",
        "+ Write a function with two parameters <code>a</code> and <code>b</code>, to compute the final amount we get if we deposite 1000€ during <code>a</code> years in a bank account with an interest rate of <code>b</code> per cent.\n",
        "+ What is the result for ``a``=10, ``b``=10"
      ]
    },
    {
      "metadata": {
        "id": "8g68e7dG1KGE",
        "colab_type": "code",
        "colab": {}
      },
      "cell_type": "code",
      "source": [
        "# Your solution here"
      ],
      "execution_count": 0,
      "outputs": []
    },
    {
      "metadata": {
        "id": "VjxhHtm91KGF",
        "colab_type": "code",
        "colab": {}
      },
      "cell_type": "code",
      "source": [
        "# My solution\n",
        "\n",
        "def amount(a,b):\n",
        "    am = 1000.0\n",
        "    for i in range(a):\n",
        "        am = am + am* b/100.\n",
        "    return am\n",
        "\n",
        "amount(10,10)"
      ],
      "execution_count": 0,
      "outputs": []
    },
    {
      "metadata": {
        "id": "0L7UtEAE1KGI",
        "colab_type": "text"
      },
      "cell_type": "markdown",
      "source": [
        "**Exercise**\n",
        "\n",
        "+ Write a function with one parameter <code>a</code>, to compute the minimum period we need to double the amount in an account with an interest rate of <code>a</code> per cent.\n",
        "+ What is the result for ``a``=3?"
      ]
    },
    {
      "metadata": {
        "id": "ruBmA8Bv1KGI",
        "colab_type": "code",
        "colab": {}
      },
      "cell_type": "code",
      "source": [
        "# Your solution here"
      ],
      "execution_count": 0,
      "outputs": []
    },
    {
      "metadata": {
        "id": "fuSdXXrF1KGJ",
        "colab_type": "code",
        "colab": {}
      },
      "cell_type": "code",
      "source": [
        "# My solution\n",
        "\n",
        "def double(a):\n",
        "    amount = 1.0\n",
        "    c = 1\n",
        "    while amount<2.0:\n",
        "        amount += amount * a/100.\n",
        "        c += 1\n",
        "    return c-1\n",
        "\n",
        "double(3)"
      ],
      "execution_count": 0,
      "outputs": []
    },
    {
      "metadata": {
        "id": "W2-eDihQ1KGK",
        "colab_type": "text"
      },
      "cell_type": "markdown",
      "source": [
        "** Exercise**\n",
        "\n",
        "> (...) In mathematics, the sieve of Eratosthenes, one of a number of prime number sieves, is a simple, ancient algorithm for finding all prime numbers up to any given limit. A prime number is a natural number which has exactly two distinct natural number divisors: 1 and itself. To find all the prime numbers less than or equal to a given integer $n$ by Eratosthenes' method.\n",
        "> (Source: *Wikipedia*)\n",
        "\n",
        "+ Write a program to implement the Eratostenes algorithm. First create a list of consecutive integers from 2 through $n$: (2, 3, 4, ..., n). Then,    \n",
        "    - Initially, let $p$ equal 2, the first prime number.\n",
        "    - Starting from $p$, enumerate its multiples by counting to $n$ in increments of $p$, and mark them in the list (these will be 2p, 3p, 4p, etc.; the $p$ itself should not be marked).\n",
        "    - Find the first number greater than $p$ in the list that is not marked. If there was no such number, stop. Otherwise, let $p$ now equal this new number (which is the next prime), and repeat from step 2.\n",
        "    - When the algorithm terminates, all the numbers in the list that are not marked are prime. (...)"
      ]
    },
    {
      "metadata": {
        "id": "gMxuphkB1KGK",
        "colab_type": "code",
        "colab": {}
      },
      "cell_type": "code",
      "source": [
        "# Your solution here"
      ],
      "execution_count": 0,
      "outputs": []
    },
    {
      "metadata": {
        "id": "1xH7Z1r01KGL",
        "colab_type": "code",
        "outputId": "2efd70df-6d3e-48df-85f8-fe3507abad45",
        "colab": {}
      },
      "cell_type": "code",
      "source": [
        "\n",
        "# My solution\n",
        "def eras(n):\n",
        "  siv=range(n+1)\n",
        "  # 1 is not prime\n",
        "  siv[1]=0\n",
        "  # The last possible factor is sqrt(n)\n",
        "  sqn=int(round(n**0.5))\n",
        "  for i in range(2,sqn+1):\n",
        "    if siv[i]!=0:\n",
        "        siv[2*i:n/i*i+1:i]=[0]*(n/i-1)\n",
        "  return filter(None,siv)\n",
        "    \n",
        "print eras(100000)\n",
        "\n",
        "%timeit eras(10000)"
      ],
      "execution_count": 0,
      "outputs": [
        {
          "output_type": "stream",
          "text": [
            "[2, 3, 5, 7, 11, 13, 17, 19, 23, 29, 31, 37, 41, 43, 47, 53, 59, 61, 67, 71, 73, 79, 83, 89, 97, 101, 103, 107, 109, 113, 127, 131, 137, 139, 149, 151, 157, 163, 167, 173, 179, 181, 191, 193, 197, 199, 211, 223, 227, 229, 233, 239, 241, 251, 257, 263, 269, 271, 277, 281, 283, 293, 307, 311, 313, 317, 331, 337, 347, 349, 353, 359, 367, 373, 379, 383, 389, 397, 401, 409, 419, 421, 431, 433, 439, 443, 449, 457, 461, 463, 467, 479, 487, 491, 499]\n",
            "1000 loops, best of 3: 495 µs per loop\n"
          ],
          "name": "stdout"
        }
      ]
    },
    {
      "metadata": {
        "id": "498s_0YM1KGM",
        "colab_type": "text"
      },
      "cell_type": "markdown",
      "source": [
        "**Exercise:** \n",
        "\n",
        "+ Compute the set of bigrams of a string. (``'hola'->'ho'+'ol'+'la'``) "
      ]
    },
    {
      "metadata": {
        "id": "oK1e5pPw1KGM",
        "colab_type": "code",
        "colab": {}
      },
      "cell_type": "code",
      "source": [
        "# Your solution here"
      ],
      "execution_count": 0,
      "outputs": []
    },
    {
      "metadata": {
        "id": "B086C2Zh1KGN",
        "colab_type": "code",
        "colab": {}
      },
      "cell_type": "code",
      "source": [
        "%%writefile -a solution.py\n",
        "\n",
        "# My solution\n",
        "\n",
        "def bigrams(a):\n",
        "    s = set()\n",
        "    for i in range(len(a)-1):\n",
        "        s.add(a[i:i+2])\n",
        "    return s\n",
        "\n",
        "print bigrams(\"llangardaix\")\n",
        "print bigrams(\"setze jutges d'un jutjat\")"
      ],
      "execution_count": 0,
      "outputs": []
    },
    {
      "metadata": {
        "id": "FaWWiz3t1KGO",
        "colab_type": "code",
        "colab": {}
      },
      "cell_type": "code",
      "source": [
        "# %load solution.py\n",
        "\n",
        "# My solution\n",
        "\n",
        "def bigrams(a):\n",
        "    s = set()\n",
        "    for i in range(len(a)-1):\n",
        "        s.add(a[i:i+2])\n",
        "    return s\n",
        "\n",
        "print bigrams(\"llangardaix\")\n",
        "print bigrams(\"setze jutges d'un jutjat\")"
      ],
      "execution_count": 0,
      "outputs": []
    },
    {
      "metadata": {
        "id": "ePAJbGrn1KGP",
        "colab_type": "text"
      },
      "cell_type": "markdown",
      "source": [
        "### Objects\n",
        "\n",
        "You can define your own classes and objects."
      ]
    },
    {
      "metadata": {
        "id": "CrM7mA0h1KGP",
        "colab_type": "code",
        "colab": {}
      },
      "cell_type": "code",
      "source": [
        "#creating a class\n",
        "\n",
        "class Rectangle:\n",
        "    def __init__(self,x,y):\n",
        "        self.x = x\n",
        "        self.y = y\n",
        "    description = \"This shape has not been described yet\"\n",
        "    author = \"Nobody has claimed to make this shape yet\"\n",
        "    def area(self):\n",
        "        return self.x * self.y\n",
        "    def perimeter(self):\n",
        "        return 2 * self.x + 2 * self.y\n",
        "    def describe(self,text):\n",
        "        self.description = text\n",
        "    def authorName(self,text):\n",
        "        self.author = text\n",
        "    def scaleSize(self,scale):\n",
        "        self.x = self.x * scale\n",
        "        self.y = self.y * scale\n",
        "\n",
        "#creating objects\n",
        "a = Rectangle(100, 45)\n",
        "b = Rectangle(10,230)\n",
        "\n",
        "#describing the rectangles\n",
        "a.describe(\"A fat rectangle\")\n",
        "b.describe(\"A thin rectangle\")"
      ],
      "execution_count": 0,
      "outputs": []
    },
    {
      "metadata": {
        "id": "EOU4ACb_1KGQ",
        "colab_type": "code",
        "colab": {}
      },
      "cell_type": "code",
      "source": [
        "#finding the area of your rectangle:\n",
        "print a.area()\n",
        " \n",
        "#finding the perimeter of your rectangle:\n",
        "print a.perimeter()\n",
        "\n",
        "#getting the description\n",
        "print a.description\n",
        "print a.author"
      ],
      "execution_count": 0,
      "outputs": []
    },
    {
      "metadata": {
        "id": "mCgikXJo1KGQ",
        "colab_type": "code",
        "colab": {}
      },
      "cell_type": "code",
      "source": [
        "#finding the area of your rectangle:\n",
        "print b.area()\n",
        "print b.description\n",
        "\n",
        "#making the rectangle 50% smaller\n",
        "b.scaleSize(0.5)\n",
        "b.describe(\"A small thin rectangle\")\n",
        " \n",
        "#re-printing the new area of the rectangle\n",
        "print b.area()\n",
        "print b.description"
      ],
      "execution_count": 0,
      "outputs": []
    },
    {
      "metadata": {
        "id": "SjgGGe3I1KGS",
        "colab_type": "text"
      },
      "cell_type": "markdown",
      "source": [
        "## Reading Data\n",
        "\n",
        "The most convenient method that you can use to work with data is to load it directly into memory.\n",
        "\n",
        "When you load a file (of any type), the entire dataset is available at all times and the loading process is quite direct:"
      ]
    },
    {
      "metadata": {
        "id": "jyQL-VkL1KGS",
        "colab_type": "code",
        "outputId": "430bf4fe-ba67-4f70-f756-b4b96ebedb22",
        "colab": {}
      },
      "cell_type": "code",
      "source": [
        "with open(\"files/SeaIce.txt\", 'r') as input_file:\n",
        "    print 'File content', input_file.read()"
      ],
      "execution_count": 0,
      "outputs": [
        {
          "output_type": "stream",
          "text": [
            "File content year mo    data_type region extent   area\n",
            "1979  1      Goddard      N  15.54  12.33\n",
            "1980  1      Goddard      N  14.96  11.85\n",
            "1981  1      Goddard      N  15.03  11.82\n",
            "1982  1      Goddard      N  15.26  12.11\n",
            "1983  1      Goddard      N  15.10  11.92\n",
            "1984  1      Goddard      N  14.61  11.60\n",
            "1985  1      Goddard      N  14.86  11.60\n",
            "1986  1      Goddard      N  15.02  11.79\n",
            "1987  1      Goddard      N  15.20  11.81\n",
            "1988  1        -9999      N  -9999  -9999\n",
            "1989  1      Goddard      N  15.12  13.11\n",
            "1990  1      Goddard      N  14.95  12.72\n",
            "1991  1      Goddard      N  14.46  12.49\n",
            "1992  1      Goddard      N  14.72  12.54\n",
            "1993  1      Goddard      N  15.08  12.85\n",
            "1994  1      Goddard      N  14.82  12.80\n",
            "1995  1      Goddard      N  14.62  12.72\n",
            "1996  1      Goddard      N  14.21  12.07\n",
            "1997  1      Goddard      N  14.47  12.30\n",
            "1998  1      Goddard      N  14.81  12.73\n",
            "1999  1      Goddard      N  14.47  12.54\n",
            "2000  1      Goddard      N  14.41  12.22\n",
            "2001  1      Goddard      N  14.31  12.27\n",
            "2002  1      Goddard      N  14.45  12.19\n",
            "2003  1      Goddard      N  14.46  12.21\n",
            "2004  1      Goddard      N  14.03  12.19\n",
            "2005  1      Goddard      N  13.66  11.84\n",
            "2006  1      Goddard      N  13.60  11.57\n",
            "2007  1      Goddard      N  13.77  11.79\n",
            "2008  1      Goddard      N  14.05  11.95\n",
            "2009  1      Goddard      N  14.08  11.97\n",
            "2010  1      Goddard      N  13.80  11.68\n",
            "2011  1      Goddard      N  13.57  11.47\n",
            "2012  1      Goddard      N  13.77  11.87\n",
            "2013  1      NRTSI-G      N  13.78  11.57\n",
            "2014  1      NRTSI-G      N  13.73  11.66\n",
            "1979  2      Goddard      N  16.31  13.11\n",
            "1980  2      Goddard      N  15.98  12.82\n",
            "1981  2      Goddard      N  15.65  12.45\n",
            "1982  2      Goddard      N  16.06  12.79\n",
            "1983  2      Goddard      N  16.02  12.86\n",
            "1984  2      Goddard      N  15.32  12.17\n",
            "1985  2      Goddard      N  15.67  12.39\n",
            "1986  2      Goddard      N  15.89  12.53\n",
            "1987  2      Goddard      N  16.11  12.93\n",
            "1988  2      Goddard      N  15.61  13.49\n",
            "1989  2      Goddard      N  15.56  13.28\n",
            "1990  2      Goddard      N  15.56  13.33\n",
            "1991  2      Goddard      N  15.26  13.15\n",
            "1992  2      Goddard      N  15.50  13.51\n",
            "1993  2      Goddard      N  15.73  13.54\n",
            "1994  2      Goddard      N  15.61  13.46\n",
            "1995  2      Goddard      N  15.24  13.30\n",
            "1996  2      Goddard      N  15.17  12.90\n",
            "1997  2      Goddard      N  15.52  13.36\n",
            "1998  2      Goddard      N  15.77  13.70\n",
            "1999  2      Goddard      N  15.37  13.38\n",
            "2000  2      Goddard      N  15.18  13.02\n",
            "2001  2      Goddard      N  15.27  13.14\n",
            "2002  2      Goddard      N  15.36  13.36\n",
            "2003  2      Goddard      N  15.25  13.16\n",
            "2004  2      Goddard      N  14.93  12.87\n",
            "2005  2      Goddard      N  14.36  12.27\n",
            "2006  2      Goddard      N  14.42  12.28\n",
            "2007  2      Goddard      N  14.53  12.52\n",
            "2008  2      Goddard      N  15.01  12.87\n",
            "2009  2      Goddard      N  14.85  12.87\n",
            "2010  2      Goddard      N  14.59  12.60\n",
            "2011  2      Goddard      N  14.38  12.41\n",
            "2012  2      Goddard      N  14.59  12.37\n",
            "2013  2      Goddard      N  14.69  12.84\n",
            "2014  2      NRTSI-G      N  14.44  12.12\n",
            "1979  3      Goddard      N  16.45  13.13\n",
            "1980  3      Goddard      N  16.13  12.92\n",
            "1981  3      Goddard      N  15.61  12.62\n",
            "1982  3      Goddard      N  16.15  12.99\n",
            "1983  3      Goddard      N  16.10  12.84\n",
            "1984  3      Goddard      N  15.62  12.48\n",
            "1985  3      Goddard      N  16.06  12.66\n",
            "1986  3      Goddard      N  16.08  12.65\n",
            "1987  3      Goddard      N  15.95  12.75\n",
            "1988  3      Goddard      N  16.13  13.84\n",
            "1989  3      Goddard      N  15.52  13.14\n",
            "1990  3      Goddard      N  15.88  13.44\n",
            "1991  3      Goddard      N  15.50  13.35\n",
            "1992  3      Goddard      N  15.47  13.41\n",
            "1993  3      Goddard      N  15.88  13.71\n",
            "1994  3      Goddard      N  15.58  13.47\n",
            "1995  3      Goddard      N  15.32  13.28\n",
            "1996  3      Goddard      N  15.13  12.83\n",
            "1997  3      Goddard      N  15.58  13.24\n",
            "1998  3      Goddard      N  15.66  13.50\n",
            "1999  3      Goddard      N  15.40  13.47\n",
            "2000  3      Goddard      N  15.27  13.10\n",
            "2001  3      Goddard      N  15.61  13.57\n",
            "2002  3      Goddard      N  15.44  13.36\n",
            "2003  3      Goddard      N  15.49  13.36\n",
            "2004  3      Goddard      N  15.05  12.93\n",
            "2005  3      Goddard      N  14.74  12.67\n",
            "2006  3      Goddard      N  14.43  12.44\n",
            "2007  3      Goddard      N  14.65  12.49\n",
            "2008  3      Goddard      N  15.22  13.20\n",
            "2009  3      Goddard      N  15.14  13.08\n",
            "2010  3      Goddard      N  15.11  13.19\n",
            "2011  3      Goddard      N  14.58  12.48\n",
            "2012  3      Goddard      N  15.24  13.08\n",
            "2013  3      NRTSI-G      N  15.04  13.02\n",
            "1979  4      Goddard      N  15.46  12.43\n",
            "1980  4      Goddard      N  15.49  12.45\n",
            "1981  4      Goddard      N  15.12  12.16\n",
            "1982  4      Goddard      N  15.57  12.55\n",
            "1983  4      Goddard      N  15.30  12.12\n",
            "1984  4      Goddard      N  15.15  12.10\n",
            "1985  4      Goddard      N  15.34  12.46\n",
            "1986  4      Goddard      N  15.15  11.95\n",
            "1987  4      Goddard      N  15.33  12.28\n",
            "1988  4      Goddard      N  15.21  13.11\n",
            "1989  4      Goddard      N  14.44  12.26\n",
            "1990  4      Goddard      N  14.68  12.16\n",
            "1991  4      Goddard      N  14.93  12.79\n",
            "1992  4      Goddard      N  14.70  12.76\n",
            "1993  4      Goddard      N  15.18  12.95\n",
            "1994  4      Goddard      N  14.95  12.84\n",
            "1995  4      Goddard      N  14.59  12.32\n",
            "1996  4      Goddard      N  14.22  12.23\n",
            "1997  4      Goddard      N  14.59  12.48\n",
            "1998  4      Goddard      N  14.89  12.77\n",
            "1999  4      Goddard      N  15.13  13.08\n",
            "2000  4      Goddard      N  14.63  12.51\n",
            "2001  4      Goddard      N  14.86  12.99\n",
            "2002  4      Goddard      N  14.37  12.35\n",
            "2003  4      Goddard      N  14.57  12.38\n",
            "2004  4      Goddard      N  14.11  12.08\n",
            "2005  4      Goddard      N  14.07  12.16\n",
            "2006  4      Goddard      N  13.97  11.97\n",
            "2007  4      Goddard      N  13.87  11.75\n",
            "2008  4      Goddard      N  14.42  12.43\n",
            "2009  4      Goddard      N  14.57  12.58\n",
            "2010  4      Goddard      N  14.70  12.50\n",
            "2011  4      Goddard      N  14.16  12.11\n",
            "2012  4      Goddard      N  14.72  12.53\n",
            "2013  4      NRTSI-G      N  14.37  12.33\n",
            "1979  5      Goddard      N  14.06  11.04\n",
            "1980  5      Goddard      N  14.04  10.88\n",
            "1981  5      Goddard      N  13.90  10.93\n",
            "1982  5      Goddard      N  14.17  11.10\n",
            "1983  5      Goddard      N  13.54  10.80\n",
            "1984  5      Goddard      N  13.68  10.81\n",
            "1985  5      Goddard      N  14.23  11.19\n",
            "1986  5      Goddard      N  13.52  10.63\n",
            "1987  5      Goddard      N  13.81  10.91\n",
            "1988  5      Goddard      N  13.69  11.35\n",
            "1989  5      Goddard      N  12.98  11.30\n",
            "1990  5      Goddard      N  13.30  10.84\n",
            "1991  5      Goddard      N  13.51  11.44\n",
            "1992  5      Goddard      N  13.25  11.37\n",
            "1993  5      Goddard      N  13.54  11.35\n",
            "1994  5      Goddard      N  13.73  11.60\n",
            "1995  5      Goddard      N  13.04  10.76\n",
            "1996  5      Goddard      N  13.06  11.22\n",
            "1997  5      Goddard      N  13.32  11.17\n",
            "1998  5      Goddard      N  13.80  11.35\n",
            "1999  5      Goddard      N  13.86  11.61\n",
            "2000  5      Goddard      N  13.18  11.18\n",
            "2001  5      Goddard      N  13.72  11.32\n",
            "2002  5      Goddard      N  13.12  11.11\n",
            "2003  5      Goddard      N  13.00  10.82\n",
            "2004  5      Goddard      N  12.58  10.86\n",
            "2005  5      Goddard      N  12.99  10.83\n",
            "2006  5      Goddard      N  12.62  10.39\n",
            "2007  5      Goddard      N  12.89  10.71\n",
            "2008  5      Goddard      N  13.19  10.92\n",
            "2009  5      Goddard      N  13.40  11.15\n",
            "2010  5      Goddard      N  13.11  10.54\n",
            "2011  5      Goddard      N  12.81  10.41\n",
            "2012  5      Goddard      N  13.12  10.72\n",
            "2013  5      NRTSI-G      N  13.10  10.87\n",
            "1979  6      Goddard      N  12.59   9.28\n",
            "1980  6      Goddard      N  12.31   8.93\n",
            "1981  6      Goddard      N  12.57   8.96\n",
            "1982  6      Goddard      N  12.69   9.40\n",
            "1983  6      Goddard      N  12.36   9.20\n",
            "1984  6      Goddard      N  12.20   9.02\n",
            "1985  6      Goddard      N  12.40   8.88\n",
            "1986  6      Goddard      N  12.10   8.93\n",
            "1987  6      Goddard      N  12.57   9.32\n",
            "1988  6      Goddard      N  12.02   9.62\n",
            "1989  6      Goddard      N  12.31   9.90\n",
            "1990  6      Goddard      N  11.68   9.12\n",
            "1991  6      Goddard      N  12.23   9.60\n",
            "1992  6      Goddard      N  12.13   9.89\n",
            "1993  6      Goddard      N  11.99   9.20\n",
            "1994  6      Goddard      N  12.10   9.62\n",
            "1995  6      Goddard      N  11.55   8.86\n",
            "1996  6      Goddard      N  12.10   9.78\n",
            "1997  6      Goddard      N  11.91   9.14\n",
            "1998  6      Goddard      N  11.85   9.11\n",
            "1999  6      Goddard      N  12.10   9.18\n",
            "2000  6      Goddard      N  11.71   8.99\n",
            "2001  6      Goddard      N  11.69   9.01\n",
            "2002  6      Goddard      N  11.69   9.13\n",
            "2003  6      Goddard      N  11.77   9.05\n",
            "2004  6      Goddard      N  11.51   9.18\n",
            "2005  6      Goddard      N  11.29   8.74\n",
            "2006  6      Goddard      N  11.06   8.34\n",
            "2007  6      Goddard      N  11.49   8.15\n",
            "2008  6      Goddard      N  11.36   8.52\n",
            "2009  6      Goddard      N  11.46   8.92\n",
            "2010  6      Goddard      N  10.82   8.02\n",
            "2011  6      Goddard      N  10.99   8.20\n",
            "2012  6      Goddard      N  10.92   7.77\n",
            "2013  6      NRTSI-G      N  11.58   8.57\n",
            "1979  7      Goddard      N  10.47   6.59\n",
            "1980  7      Goddard      N  10.39   6.45\n",
            "1981  7      Goddard      N  10.62   6.23\n",
            "1982  7      Goddard      N  10.75   6.79\n",
            "1983  7      Goddard      N  10.91   6.79\n",
            "1984  7      Goddard      N  10.15   6.19\n",
            "1985  7      Goddard      N  10.09   5.89\n",
            "1986  7      Goddard      N  10.47   6.53\n",
            "1987  7      Goddard      N   9.98   6.84\n",
            "1988  7      Goddard      N  10.04   6.93\n",
            "1989  7      Goddard      N  10.38   7.24\n",
            "1990  7      Goddard      N   9.62   6.44\n",
            "1991  7      Goddard      N   9.68   6.66\n",
            "1992  7      Goddard      N  10.61   7.14\n",
            "1993  7      Goddard      N   9.66   6.17\n",
            "1994  7      Goddard      N  10.22   6.85\n",
            "1995  7      Goddard      N   9.15   6.05\n",
            "1996  7      Goddard      N  10.36   7.36\n",
            "1997  7      Goddard      N   9.59   6.41\n",
            "1998  7      Goddard      N   9.62   6.38\n",
            "1999  7      Goddard      N   9.59   6.49\n",
            "2000  7      Goddard      N   9.75   6.31\n",
            "2001  7      Goddard      N   9.22   6.22\n",
            "2002  7      Goddard      N   9.49   6.34\n",
            "2003  7      Goddard      N   9.46   6.06\n",
            "2004  7      Goddard      N   9.60   6.43\n",
            "2005  7      Goddard      N   8.93   5.81\n",
            "2006  7      Goddard      N   8.67   5.71\n",
            "2007  7      Goddard      N   8.13   5.03\n",
            "2008  7      Goddard      N   8.99   5.74\n",
            "2009  7      Goddard      N   8.80   5.77\n",
            "2010  7      Goddard      N   8.36   5.27\n",
            "2011  7      Goddard      N   7.91   5.04\n",
            "2012  7      Goddard      N   7.93   4.76\n",
            "2013  7      NRTSI-G      N   8.45   5.41\n",
            "1979  8      Goddard      N   8.15   4.96\n",
            "1980  8      Goddard      N   8.04   4.84\n",
            "1981  8      Goddard      N   7.86   4.38\n",
            "1982  8      Goddard      N   8.26   4.92\n",
            "1983  8      Goddard      N   8.36   4.88\n",
            "1984  8      Goddard      N   7.87   4.59\n",
            "1985  8      Goddard      N   7.46   4.51\n",
            "1986  8      Goddard      N   8.01   4.92\n",
            "1987  8      Goddard      N   7.69   5.35\n",
            "1988  8      Goddard      N   7.90   5.34\n",
            "1989  8      Goddard      N   7.92   5.48\n",
            "1990  8      Goddard      N   6.82   4.92\n",
            "1991  8      Goddard      N   7.40   5.14\n",
            "1992  8      Goddard      N   7.86   5.35\n",
            "1993  8      Goddard      N   7.29   4.65\n",
            "1994  8      Goddard      N   7.61   5.10\n",
            "1995  8      Goddard      N   6.68   4.61\n",
            "1996  8      Goddard      N   8.17   5.65\n",
            "1997  8      Goddard      N   7.30   5.03\n",
            "1998  8      Goddard      N   7.49   4.61\n",
            "1999  8      Goddard      N   7.38   4.67\n",
            "2000  8      Goddard      N   7.21   4.71\n",
            "2001  8      Goddard      N   7.47   4.87\n",
            "2002  8      Goddard      N   6.53   4.23\n",
            "2003  8      Goddard      N   6.85   4.44\n",
            "2004  8      Goddard      N   6.83   4.57\n",
            "2005  8      Goddard      N   6.30   4.14\n",
            "2006  8      Goddard      N   6.52   4.24\n",
            "2007  8      Goddard      N   5.36   3.11\n",
            "2008  8      Goddard      N   6.05   3.47\n",
            "2009  8      Goddard      N   6.28   3.84\n",
            "2010  8      Goddard      N   6.01   3.60\n",
            "2011  8      Goddard      N   5.55   3.06\n",
            "2012  8      Goddard      N   4.71   2.56\n",
            "2013  8      NRTSI-G      N   6.09   3.83\n",
            "1979  9      Goddard      N   7.20   4.53\n",
            "1980  9      Goddard      N   7.85   4.83\n",
            "1981  9      Goddard      N   7.25   4.38\n",
            "1982  9      Goddard      N   7.45   4.38\n",
            "1983  9      Goddard      N   7.52   4.63\n",
            "1984  9      Goddard      N   7.17   4.05\n",
            "1985  9      Goddard      N   6.93   4.17\n",
            "1986  9      Goddard      N   7.54   4.66\n",
            "1987  9      Goddard      N   7.48   5.60\n",
            "1988  9      Goddard      N   7.49   5.31\n",
            "1989  9      Goddard      N   7.04   4.81\n",
            "1990  9      Goddard      N   6.24   4.50\n",
            "1991  9      Goddard      N   6.55   4.46\n",
            "1992  9      Goddard      N   7.55   5.37\n",
            "1993  9      Goddard      N   6.50   4.52\n",
            "1994  9      Goddard      N   7.18   5.08\n",
            "1995  9      Goddard      N   6.13   4.38\n",
            "1996  9      Goddard      N   7.88   5.58\n",
            "1997  9      Goddard      N   6.74   4.84\n",
            "1998  9      Goddard      N   6.56   4.24\n",
            "1999  9      Goddard      N   6.24   4.22\n",
            "2000  9      Goddard      N   6.32   4.31\n",
            "2001  9      Goddard      N   6.75   4.55\n",
            "2002  9      Goddard      N   5.96   3.98\n",
            "2003  9      Goddard      N   6.15   4.01\n",
            "2004  9      Goddard      N   6.05   4.35\n",
            "2005  9      Goddard      N   5.57   4.03\n",
            "2006  9      Goddard      N   5.92   3.97\n",
            "2007  9      Goddard      N   4.30   2.78\n",
            "2008  9      Goddard      N   4.73   2.99\n",
            "2009  9      Goddard      N   5.39   3.47\n",
            "2010  9      Goddard      N   4.93   3.07\n",
            "2011  9      Goddard      N   4.63   2.94\n",
            "2012  9      Goddard      N   3.63   2.15\n",
            "2013  9      NRTSI-G      N   5.35   3.48\n",
            "1979 10      Goddard      N   9.39   6.11\n",
            "1980 10      Goddard      N   9.46   6.42\n",
            "1981 10      Goddard      N   9.19   6.19\n",
            "1982 10      Goddard      N   9.98   6.60\n",
            "1983 10      Goddard      N   9.64   6.70\n",
            "1984 10      Goddard      N   8.84   5.84\n",
            "1985 10      Goddard      N   8.88   6.03\n",
            "1986 10      Goddard      N   9.89   6.77\n",
            "1987 10      Goddard      N   9.29   7.44\n",
            "1988 10      Goddard      N   9.47   7.47\n",
            "1989 10      Goddard      N   9.52   6.90\n",
            "1990 10      Goddard      N   9.35   6.67\n",
            "1991 10      Goddard      N   9.16   6.70\n",
            "1992 10      Goddard      N   9.60   7.69\n",
            "1993 10      Goddard      N   9.18   6.98\n",
            "1994 10      Goddard      N   9.48   7.17\n",
            "1995 10      Goddard      N   8.94   5.91\n",
            "1996 10      Goddard      N   9.39   7.49\n",
            "1997 10      Goddard      N   8.76   6.39\n",
            "1998 10      Goddard      N   8.85   6.65\n",
            "1999 10      Goddard      N   9.10   6.77\n",
            "2000 10      Goddard      N   8.92   6.64\n",
            "2001 10      Goddard      N   8.59   6.59\n",
            "2002 10      Goddard      N   8.81   6.20\n",
            "2003 10      Goddard      N   8.65   5.93\n",
            "2004 10      Goddard      N   8.48   6.35\n",
            "2005 10      Goddard      N   8.45   5.71\n",
            "2006 10      Goddard      N   8.33   5.74\n",
            "2007 10      Goddard      N   6.77   4.21\n",
            "2008 10      Goddard      N   8.42   5.45\n",
            "2009 10      Goddard      N   7.52   4.92\n",
            "2010 10      Goddard      N   7.71   5.19\n",
            "2011 10      Goddard      N   7.14   4.66\n",
            "2012 10      Goddard      N   7.07   4.27\n",
            "2013 10      NRTSI-G      N   8.10   5.54\n",
            "1978 11      Goddard      N  12.01   8.97\n",
            "1979 11      Goddard      N  11.16   8.29\n",
            "1980 11      Goddard      N  11.69   8.64\n",
            "1981 11      Goddard      N  11.17   8.23\n",
            "1982 11      Goddard      N  11.91   8.97\n",
            "1983 11      Goddard      N  11.64   8.91\n",
            "1984 11      Goddard      N  11.29   8.15\n",
            "1985 11      Goddard      N  11.39   8.35\n",
            "1986 11      Goddard      N  11.78   8.81\n",
            "1987 11      Goddard      N  11.52   9.67\n",
            "1988 11      Goddard      N  11.69   9.86\n",
            "1989 11      Goddard      N  11.50   9.38\n",
            "1990 11      Goddard      N  11.31   9.58\n",
            "1991 11      Goddard      N  11.12   9.19\n",
            "1992 11      Goddard      N  11.87   9.69\n",
            "1993 11      Goddard      N  11.73   9.49\n",
            "1994 11      Goddard      N  11.30   9.64\n",
            "1995 11      Goddard      N  10.97   8.95\n",
            "1996 11      Goddard      N  10.56   8.70\n",
            "1997 11      Goddard      N  10.91   9.00\n",
            "1998 11      Goddard      N  10.75   8.82\n",
            "1999 11      Goddard      N  10.99   9.21\n",
            "2000 11      Goddard      N  10.54   8.81\n",
            "2001 11      Goddard      N  10.92   9.02\n",
            "2002 11      Goddard      N  10.78   8.69\n",
            "2003 11      Goddard      N  10.29   8.50\n",
            "2004 11      Goddard      N  10.65   8.90\n",
            "2005 11      Goddard      N  10.47   8.73\n",
            "2006 11      Goddard      N   9.84   8.07\n",
            "2007 11      Goddard      N  10.05   8.00\n",
            "2008 11      Goddard      N  10.62   8.73\n",
            "2009 11      Goddard      N  10.27   8.05\n",
            "2010 11      Goddard      N   9.88   8.11\n",
            "2011 11      Goddard      N  10.00   8.18\n",
            "2012 11      Goddard      N   9.92   7.74\n",
            "2013 11      NRTSI-G      N  10.24   8.26\n",
            "1978 12      Goddard      N  14.12  10.85\n",
            "1979 12      Goddard      N  13.54  10.55\n",
            "1980 12      Goddard      N  13.72  10.71\n",
            "1981 12      Goddard      N  13.74  10.47\n",
            "1982 12      Goddard      N  13.83  10.81\n",
            "1983 12      Goddard      N  13.44  10.56\n",
            "1984 12      Goddard      N  13.18  10.19\n",
            "1985 12      Goddard      N  13.19  10.15\n",
            "1986 12      Goddard      N  13.40  10.46\n",
            "1987 12        -9999      N  -9999  -9999\n",
            "1988 12      Goddard      N  13.78  11.94\n",
            "1989 12      Goddard      N  13.47  11.53\n",
            "1990 12      Goddard      N  13.27  11.40\n",
            "1991 12      Goddard      N  13.17  11.19\n",
            "1992 12      Goddard      N  13.46  11.66\n",
            "1993 12      Goddard      N  13.52  11.41\n",
            "1994 12      Goddard      N  13.53  11.43\n",
            "1995 12      Goddard      N  12.98  11.02\n",
            "1996 12      Goddard      N  13.14  10.96\n",
            "1997 12      Goddard      N  13.29  11.19\n",
            "1998 12      Goddard      N  13.26  10.85\n",
            "1999 12      Goddard      N  12.88  10.93\n",
            "2000 12      Goddard      N  12.81  10.90\n",
            "2001 12      Goddard      N  12.84  10.49\n",
            "2002 12      Goddard      N  12.82  10.58\n",
            "2003 12      Goddard      N  12.82  10.74\n",
            "2004 12      Goddard      N  12.72  10.91\n",
            "2005 12      Goddard      N  12.47  10.51\n",
            "2006 12      Goddard      N  12.27  10.10\n",
            "2007 12      Goddard      N  12.39  10.11\n",
            "2008 12      Goddard      N  12.52  10.64\n",
            "2009 12      Goddard      N  12.51  10.25\n",
            "2010 12      Goddard      N  12.02  10.08\n",
            "2011 12      Goddard      N  12.40  10.28\n",
            "2012 12      Goddard      N  12.20  10.11\n",
            "2013 12      NRTSI-G      N  12.38  10.48\n"
          ],
          "name": "stdout"
        }
      ]
    },
    {
      "metadata": {
        "id": "IPmUX9Jl1KGV",
        "colab_type": "text"
      },
      "cell_type": "markdown",
      "source": [
        "The entire dataset is loaded from the library into free memory. Of course, the loading process will fail if your system lacks sufficient memory to hold the dataset. When this problem occurs, you need to consider other techniques\n",
        "for working with the dataset, such as **streaming** it or **sampling** it.\n",
        "\n",
        "Here’s an example of how you can stream data using Python:"
      ]
    },
    {
      "metadata": {
        "id": "Dc8Amqih1KGW",
        "colab_type": "code",
        "colab": {}
      },
      "cell_type": "code",
      "source": [
        "with open(\"files/SeaIce.txt\", 'r') as input_file:\n",
        "    for observation in input_file:\n",
        "        print 'Reading Data: ' + observation,"
      ],
      "execution_count": 0,
      "outputs": []
    },
    {
      "metadata": {
        "id": "bARbinI-1KGY",
        "colab_type": "text"
      },
      "cell_type": "markdown",
      "source": [
        "The ``input_file`` file object contains a pointer to the open file. As the code performs data reads in the for loop, the file pointer moves to the next record.\n",
        "\n",
        "Data streaming obtains all the records from a data source. You may find that\n",
        "you don’t need all the records. You can save time and resources by simply\n",
        "sampling the data."
      ]
    },
    {
      "metadata": {
        "id": "u4Whh3ai1KGZ",
        "colab_type": "code",
        "colab": {}
      },
      "cell_type": "code",
      "source": [
        "n = 17\n",
        "with open(\"files/SeaIce.txt\", 'r') as input_file:\n",
        "    for j, observation in enumerate(input_file):\n",
        "        if j % n==0:\n",
        "            print('Reading Line: ' + str(j) + ' Content: ' + observation), "
      ],
      "execution_count": 0,
      "outputs": []
    },
    {
      "metadata": {
        "id": "LKASkQKq1KGa",
        "colab_type": "text"
      },
      "cell_type": "markdown",
      "source": [
        "You can perform random sampling as well."
      ]
    },
    {
      "metadata": {
        "id": "05mZIP3t1KGb",
        "colab_type": "code",
        "colab": {}
      },
      "cell_type": "code",
      "source": [
        "import random\n",
        "sample_size = 0.01\n",
        "with open(\"files/SeaIce.txt\", 'r') as input_file:\n",
        "    for j, observation in enumerate(input_file):\n",
        "        if random.random()<=sample_size:\n",
        "            print('Reading Line: ' + str(j) + ' Content: ' + observation), "
      ],
      "execution_count": 0,
      "outputs": []
    },
    {
      "metadata": {
        "id": "fA_zzSor1KGc",
        "colab_type": "text"
      },
      "cell_type": "markdown",
      "source": [
        "A flat file presents the easiest kind of file to work with. \n",
        "\n",
        "A problem with using native Python techniques is that the input isn’t intelligent. For example, when a file contains a header, Python simply reads it as yet more data to process, rather than as a header (not a problem for Pandas!).\n",
        "\n",
        "The least formatted and therefore easiest‐to‐read flat‐file format is the text file. However, a text file also treats all data as strings, so you often have to convert numeric data into other forms.\n",
        "\n",
        "A comma‐separated value (CSV) file provides more formatting and more information, but it requires a little more effort to read.\n",
        "\n",
        "At the high end of flat‐file formatting are custom data formats, such as an Excel file, which contains extensive formatting and could include multiple datasets in a single file.\n",
        "\n",
        "### Reading from a CSV file\n",
        "\n",
        "A CSV file provides more formatting than a simple text file. In fact, CSV files can become quite complicated. There is a standard that defines the format of CSV files, and you can see it at https://tools.ietf.org/html/rfc4180.\n",
        "\n",
        "The ``csv`` module is useful for working with data exported from spreadsheets and databases into text files formatted with fields and records, commonly referred to as comma-separated value (CSV)."
      ]
    },
    {
      "metadata": {
        "id": "nrCCDx5D1KGd",
        "colab_type": "code",
        "colab": {}
      },
      "cell_type": "code",
      "source": [
        "import csv\n",
        "\n",
        "f = open(\"files/Advertising.csv\", 'r')\n",
        "try:\n",
        "    reader = csv.reader(f)\n",
        "    for row in reader:\n",
        "        print row\n",
        "finally:\n",
        "    f.close()"
      ],
      "execution_count": 0,
      "outputs": []
    },
    {
      "metadata": {
        "id": "EqDfhhxP1KGf",
        "colab_type": "code",
        "colab": {}
      },
      "cell_type": "code",
      "source": [
        "with open(\"files/Advertising.csv\", 'r') as input_file:\n",
        "    reader = csv.reader(input_file)\n",
        "    for row in reader:\n",
        "        print row"
      ],
      "execution_count": 0,
      "outputs": []
    },
    {
      "metadata": {
        "id": "PFs75aqc1KGg",
        "colab_type": "text"
      },
      "cell_type": "markdown",
      "source": [
        "When you have data to be imported into some other application, writing ``csv`` files is just as easy as reading them. \n",
        "\n",
        "Use ``writer()`` to create an object for writing, then iterate over the rows, using ``writerow()`` to print them.  "
      ]
    },
    {
      "metadata": {
        "id": "6rVwFHi41KGg",
        "colab_type": "code",
        "colab": {}
      },
      "cell_type": "code",
      "source": [
        "import csv\n",
        "\n",
        "ifile  = open(\"files/Advertising.csv\", 'r')\n",
        "reader = csv.reader(ifile)\n",
        "\n",
        "ofile  = open('test.csv', \"w\")\n",
        "writer = csv.writer(ofile, delimiter=',', lineterminator='\\n')\n",
        "\n",
        "for row in reader:\n",
        "    writer.writerow(row)\n",
        "\n",
        "ifile.close()\n",
        "ofile.close()"
      ],
      "execution_count": 0,
      "outputs": []
    },
    {
      "metadata": {
        "id": "rS76a3BH1KGh",
        "colab_type": "text"
      },
      "cell_type": "markdown",
      "source": [
        "A more ellegant way of reading a CSV file:\n",
        "+  Wrap the CSV reader in a function that returns a generator\n",
        "+  Use context managers ``with [callable] as [name]`` to ensure that the handle to the file is closed automatically.\n",
        "+  Use the ``csv.DictReader`` class when headers are present (otherwise just use ``csv.reader``)"
      ]
    },
    {
      "metadata": {
        "id": "8flGcwfE1KGh",
        "colab_type": "code",
        "colab": {}
      },
      "cell_type": "code",
      "source": [
        "import csv\n",
        "\n",
        "ADV = 'files/Advertising.csv'\n",
        "\n",
        "def read_data(path):\n",
        "    with open(path, 'r') as data:\n",
        "        reader = csv.DictReader(data)\n",
        "        for row in reader:\n",
        "            yield row\n",
        "\n",
        "for idx, row in enumerate(read_data(ADV)):\n",
        "    if idx < 10: print row\n",
        "    else: break"
      ],
      "execution_count": 0,
      "outputs": []
    },
    {
      "metadata": {
        "id": "98TxwTNW1KGi",
        "colab_type": "text"
      },
      "cell_type": "markdown",
      "source": [
        "The file is not opened, read, or parsed until you need it. This is powerful because it means that even for much larger data sets you will have efficient, portable code. "
      ]
    },
    {
      "metadata": {
        "id": "pjjx8koh1KGi",
        "colab_type": "code",
        "colab": {}
      },
      "cell_type": "code",
      "source": [
        "data = read_data(ADV)\n",
        "print data"
      ],
      "execution_count": 0,
      "outputs": []
    },
    {
      "metadata": {
        "id": "Lb_8GMkE1KGj",
        "colab_type": "text"
      },
      "cell_type": "markdown",
      "source": [
        "### Some goodies"
      ]
    },
    {
      "metadata": {
        "id": "NrGF4e941KGj",
        "colab_type": "code",
        "colab": {}
      },
      "cell_type": "code",
      "source": [
        "!pip install tqdm "
      ],
      "execution_count": 0,
      "outputs": []
    },
    {
      "metadata": {
        "id": "CuqCgyvZ1KGk",
        "colab_type": "code",
        "colab": {}
      },
      "cell_type": "code",
      "source": [
        "import tqdm\n",
        "from time import sleep\n",
        "text = \"\"\n",
        "for char in tqdm.tqdm(range(1000)):\n",
        "    sleep(0.01)"
      ],
      "execution_count": 0,
      "outputs": []
    }
  ]
}